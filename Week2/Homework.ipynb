{
 "cells": [
  {
   "cell_type": "code",
   "execution_count": 1,
   "id": "8cead3cb",
   "metadata": {
    "tags": []
   },
   "outputs": [],
   "source": [
    "# Import libraries\n",
    "import numpy as np\n",
    "import pandas as pd\n",
    "import seaborn as sns"
   ]
  },
  {
   "cell_type": "markdown",
   "id": "48a9c0ec",
   "metadata": {},
   "source": [
    "# Dataset\n",
    "\n",
    "In this homework, we will use the California Housing Prices from Kaggle.\n",
    "\n",
    "Here's a wget-able link:"
   ]
  },
  {
   "cell_type": "code",
   "execution_count": 2,
   "id": "78e4f14d",
   "metadata": {},
   "outputs": [
    {
     "name": "stdout",
     "output_type": "stream",
     "text": [
      "--2023-09-24 21:00:22--  https://raw.githubusercontent.com/alexeygrigorev/datasets/master/housing.csv\n",
      "Resolving raw.githubusercontent.com (raw.githubusercontent.com)... 185.199.110.133, 185.199.111.133, 185.199.109.133, ...\n",
      "Connecting to raw.githubusercontent.com (raw.githubusercontent.com)|185.199.110.133|:443... connected.\n",
      "HTTP request sent, awaiting response... 200 OK\n",
      "Length: 1423529 (1.4M) [text/plain]\n",
      "Saving to: ‘./housing.csv’\n",
      "\n",
      "./housing.csv       100%[===================>]   1.36M  1.65MB/s    in 0.8s    \n",
      "\n",
      "2023-09-24 21:00:23 (1.65 MB/s) - ‘./housing.csv’ saved [1423529/1423529]\n",
      "\n"
     ]
    }
   ],
   "source": [
    "!wget -O ./housing.csv https://raw.githubusercontent.com/alexeygrigorev/datasets/master/housing.csv"
   ]
  },
  {
   "cell_type": "markdown",
   "id": "e7be86f5",
   "metadata": {},
   "source": [
    "The goal of this homework is to create a regression model for predicting housing prices (column 'median_house_value')."
   ]
  },
  {
   "cell_type": "markdown",
   "id": "fff16f3c",
   "metadata": {},
   "source": [
    "# EDA\n",
    "\n",
    "- Load the data.\n",
    "- Look at the median_house_value variable. Does it have a long tail?"
   ]
  },
  {
   "cell_type": "code",
   "execution_count": 3,
   "id": "7fdc7f63",
   "metadata": {
    "tags": []
   },
   "outputs": [
    {
     "data": {
      "text/html": [
       "<div>\n",
       "<style scoped>\n",
       "    .dataframe tbody tr th:only-of-type {\n",
       "        vertical-align: middle;\n",
       "    }\n",
       "\n",
       "    .dataframe tbody tr th {\n",
       "        vertical-align: top;\n",
       "    }\n",
       "\n",
       "    .dataframe thead th {\n",
       "        text-align: right;\n",
       "    }\n",
       "</style>\n",
       "<table border=\"1\" class=\"dataframe\">\n",
       "  <thead>\n",
       "    <tr style=\"text-align: right;\">\n",
       "      <th></th>\n",
       "      <th>longitude</th>\n",
       "      <th>latitude</th>\n",
       "      <th>housing_median_age</th>\n",
       "      <th>total_rooms</th>\n",
       "      <th>total_bedrooms</th>\n",
       "      <th>population</th>\n",
       "      <th>households</th>\n",
       "      <th>median_income</th>\n",
       "      <th>median_house_value</th>\n",
       "    </tr>\n",
       "  </thead>\n",
       "  <tbody>\n",
       "    <tr>\n",
       "      <th>count</th>\n",
       "      <td>20640.000000</td>\n",
       "      <td>20640.000000</td>\n",
       "      <td>20640.000000</td>\n",
       "      <td>20640.000000</td>\n",
       "      <td>20433.000000</td>\n",
       "      <td>20640.000000</td>\n",
       "      <td>20640.000000</td>\n",
       "      <td>20640.000000</td>\n",
       "      <td>20640.000000</td>\n",
       "    </tr>\n",
       "    <tr>\n",
       "      <th>mean</th>\n",
       "      <td>-119.569704</td>\n",
       "      <td>35.631861</td>\n",
       "      <td>28.639486</td>\n",
       "      <td>2635.763081</td>\n",
       "      <td>537.870553</td>\n",
       "      <td>1425.476744</td>\n",
       "      <td>499.539680</td>\n",
       "      <td>3.870671</td>\n",
       "      <td>206855.816909</td>\n",
       "    </tr>\n",
       "    <tr>\n",
       "      <th>std</th>\n",
       "      <td>2.003532</td>\n",
       "      <td>2.135952</td>\n",
       "      <td>12.585558</td>\n",
       "      <td>2181.615252</td>\n",
       "      <td>421.385070</td>\n",
       "      <td>1132.462122</td>\n",
       "      <td>382.329753</td>\n",
       "      <td>1.899822</td>\n",
       "      <td>115395.615874</td>\n",
       "    </tr>\n",
       "    <tr>\n",
       "      <th>min</th>\n",
       "      <td>-124.350000</td>\n",
       "      <td>32.540000</td>\n",
       "      <td>1.000000</td>\n",
       "      <td>2.000000</td>\n",
       "      <td>1.000000</td>\n",
       "      <td>3.000000</td>\n",
       "      <td>1.000000</td>\n",
       "      <td>0.499900</td>\n",
       "      <td>14999.000000</td>\n",
       "    </tr>\n",
       "    <tr>\n",
       "      <th>25%</th>\n",
       "      <td>-121.800000</td>\n",
       "      <td>33.930000</td>\n",
       "      <td>18.000000</td>\n",
       "      <td>1447.750000</td>\n",
       "      <td>296.000000</td>\n",
       "      <td>787.000000</td>\n",
       "      <td>280.000000</td>\n",
       "      <td>2.563400</td>\n",
       "      <td>119600.000000</td>\n",
       "    </tr>\n",
       "    <tr>\n",
       "      <th>50%</th>\n",
       "      <td>-118.490000</td>\n",
       "      <td>34.260000</td>\n",
       "      <td>29.000000</td>\n",
       "      <td>2127.000000</td>\n",
       "      <td>435.000000</td>\n",
       "      <td>1166.000000</td>\n",
       "      <td>409.000000</td>\n",
       "      <td>3.534800</td>\n",
       "      <td>179700.000000</td>\n",
       "    </tr>\n",
       "    <tr>\n",
       "      <th>75%</th>\n",
       "      <td>-118.010000</td>\n",
       "      <td>37.710000</td>\n",
       "      <td>37.000000</td>\n",
       "      <td>3148.000000</td>\n",
       "      <td>647.000000</td>\n",
       "      <td>1725.000000</td>\n",
       "      <td>605.000000</td>\n",
       "      <td>4.743250</td>\n",
       "      <td>264725.000000</td>\n",
       "    </tr>\n",
       "    <tr>\n",
       "      <th>max</th>\n",
       "      <td>-114.310000</td>\n",
       "      <td>41.950000</td>\n",
       "      <td>52.000000</td>\n",
       "      <td>39320.000000</td>\n",
       "      <td>6445.000000</td>\n",
       "      <td>35682.000000</td>\n",
       "      <td>6082.000000</td>\n",
       "      <td>15.000100</td>\n",
       "      <td>500001.000000</td>\n",
       "    </tr>\n",
       "  </tbody>\n",
       "</table>\n",
       "</div>"
      ],
      "text/plain": [
       "          longitude      latitude  housing_median_age   total_rooms  \\\n",
       "count  20640.000000  20640.000000        20640.000000  20640.000000   \n",
       "mean    -119.569704     35.631861           28.639486   2635.763081   \n",
       "std        2.003532      2.135952           12.585558   2181.615252   \n",
       "min     -124.350000     32.540000            1.000000      2.000000   \n",
       "25%     -121.800000     33.930000           18.000000   1447.750000   \n",
       "50%     -118.490000     34.260000           29.000000   2127.000000   \n",
       "75%     -118.010000     37.710000           37.000000   3148.000000   \n",
       "max     -114.310000     41.950000           52.000000  39320.000000   \n",
       "\n",
       "       total_bedrooms    population    households  median_income  \\\n",
       "count    20433.000000  20640.000000  20640.000000   20640.000000   \n",
       "mean       537.870553   1425.476744    499.539680       3.870671   \n",
       "std        421.385070   1132.462122    382.329753       1.899822   \n",
       "min          1.000000      3.000000      1.000000       0.499900   \n",
       "25%        296.000000    787.000000    280.000000       2.563400   \n",
       "50%        435.000000   1166.000000    409.000000       3.534800   \n",
       "75%        647.000000   1725.000000    605.000000       4.743250   \n",
       "max       6445.000000  35682.000000   6082.000000      15.000100   \n",
       "\n",
       "       median_house_value  \n",
       "count        20640.000000  \n",
       "mean        206855.816909  \n",
       "std         115395.615874  \n",
       "min          14999.000000  \n",
       "25%         119600.000000  \n",
       "50%         179700.000000  \n",
       "75%         264725.000000  \n",
       "max         500001.000000  "
      ]
     },
     "execution_count": 3,
     "metadata": {},
     "output_type": "execute_result"
    }
   ],
   "source": [
    "file_name = 'housing.csv'\n",
    "df = pd.read_csv(file_name)\n",
    "df.describe()"
   ]
  },
  {
   "cell_type": "markdown",
   "id": "80982e1f",
   "metadata": {},
   "source": [
    "# Preparing the dataset\n",
    "\n",
    "For this homework, we only want to use a subset of data.\n",
    "\n",
    "First, keep only the records where ocean_proximity is either '<1H OCEAN' or 'INLAND'\n",
    "\n",
    "Next, use only the following columns:\n",
    "\n",
    "- latitude\n",
    "- longitude\n",
    "- housing_median_age\n",
    "- total_rooms\n",
    "- total_bedrooms\n",
    "- population\n",
    "- households\n",
    "- median_income\n",
    "- median_house_value"
   ]
  },
  {
   "cell_type": "code",
   "execution_count": 4,
   "id": "ae8878b8",
   "metadata": {
    "tags": []
   },
   "outputs": [
    {
     "data": {
      "text/html": [
       "<div>\n",
       "<style scoped>\n",
       "    .dataframe tbody tr th:only-of-type {\n",
       "        vertical-align: middle;\n",
       "    }\n",
       "\n",
       "    .dataframe tbody tr th {\n",
       "        vertical-align: top;\n",
       "    }\n",
       "\n",
       "    .dataframe thead th {\n",
       "        text-align: right;\n",
       "    }\n",
       "</style>\n",
       "<table border=\"1\" class=\"dataframe\">\n",
       "  <thead>\n",
       "    <tr style=\"text-align: right;\">\n",
       "      <th></th>\n",
       "      <th>latitude</th>\n",
       "      <th>longitude</th>\n",
       "      <th>housing_median_age</th>\n",
       "      <th>total_rooms</th>\n",
       "      <th>total_bedrooms</th>\n",
       "      <th>population</th>\n",
       "      <th>households</th>\n",
       "      <th>median_income</th>\n",
       "      <th>median_house_value</th>\n",
       "    </tr>\n",
       "  </thead>\n",
       "  <tbody>\n",
       "    <tr>\n",
       "      <th>701</th>\n",
       "      <td>37.64</td>\n",
       "      <td>-121.97</td>\n",
       "      <td>32.0</td>\n",
       "      <td>1283.0</td>\n",
       "      <td>194.0</td>\n",
       "      <td>485.0</td>\n",
       "      <td>171.0</td>\n",
       "      <td>6.0574</td>\n",
       "      <td>431000.0</td>\n",
       "    </tr>\n",
       "    <tr>\n",
       "      <th>830</th>\n",
       "      <td>37.61</td>\n",
       "      <td>-121.99</td>\n",
       "      <td>9.0</td>\n",
       "      <td>3666.0</td>\n",
       "      <td>711.0</td>\n",
       "      <td>2341.0</td>\n",
       "      <td>703.0</td>\n",
       "      <td>4.6458</td>\n",
       "      <td>217000.0</td>\n",
       "    </tr>\n",
       "    <tr>\n",
       "      <th>859</th>\n",
       "      <td>37.57</td>\n",
       "      <td>-121.97</td>\n",
       "      <td>21.0</td>\n",
       "      <td>4342.0</td>\n",
       "      <td>783.0</td>\n",
       "      <td>2172.0</td>\n",
       "      <td>789.0</td>\n",
       "      <td>4.6146</td>\n",
       "      <td>247600.0</td>\n",
       "    </tr>\n",
       "    <tr>\n",
       "      <th>860</th>\n",
       "      <td>37.58</td>\n",
       "      <td>-121.96</td>\n",
       "      <td>15.0</td>\n",
       "      <td>3575.0</td>\n",
       "      <td>597.0</td>\n",
       "      <td>1777.0</td>\n",
       "      <td>559.0</td>\n",
       "      <td>5.7192</td>\n",
       "      <td>283500.0</td>\n",
       "    </tr>\n",
       "    <tr>\n",
       "      <th>861</th>\n",
       "      <td>37.58</td>\n",
       "      <td>-121.98</td>\n",
       "      <td>20.0</td>\n",
       "      <td>4126.0</td>\n",
       "      <td>1031.0</td>\n",
       "      <td>2079.0</td>\n",
       "      <td>975.0</td>\n",
       "      <td>3.6832</td>\n",
       "      <td>216900.0</td>\n",
       "    </tr>\n",
       "    <tr>\n",
       "      <th>...</th>\n",
       "      <td>...</td>\n",
       "      <td>...</td>\n",
       "      <td>...</td>\n",
       "      <td>...</td>\n",
       "      <td>...</td>\n",
       "      <td>...</td>\n",
       "      <td>...</td>\n",
       "      <td>...</td>\n",
       "      <td>...</td>\n",
       "    </tr>\n",
       "    <tr>\n",
       "      <th>20635</th>\n",
       "      <td>39.48</td>\n",
       "      <td>-121.09</td>\n",
       "      <td>25.0</td>\n",
       "      <td>1665.0</td>\n",
       "      <td>374.0</td>\n",
       "      <td>845.0</td>\n",
       "      <td>330.0</td>\n",
       "      <td>1.5603</td>\n",
       "      <td>78100.0</td>\n",
       "    </tr>\n",
       "    <tr>\n",
       "      <th>20636</th>\n",
       "      <td>39.49</td>\n",
       "      <td>-121.21</td>\n",
       "      <td>18.0</td>\n",
       "      <td>697.0</td>\n",
       "      <td>150.0</td>\n",
       "      <td>356.0</td>\n",
       "      <td>114.0</td>\n",
       "      <td>2.5568</td>\n",
       "      <td>77100.0</td>\n",
       "    </tr>\n",
       "    <tr>\n",
       "      <th>20637</th>\n",
       "      <td>39.43</td>\n",
       "      <td>-121.22</td>\n",
       "      <td>17.0</td>\n",
       "      <td>2254.0</td>\n",
       "      <td>485.0</td>\n",
       "      <td>1007.0</td>\n",
       "      <td>433.0</td>\n",
       "      <td>1.7000</td>\n",
       "      <td>92300.0</td>\n",
       "    </tr>\n",
       "    <tr>\n",
       "      <th>20638</th>\n",
       "      <td>39.43</td>\n",
       "      <td>-121.32</td>\n",
       "      <td>18.0</td>\n",
       "      <td>1860.0</td>\n",
       "      <td>409.0</td>\n",
       "      <td>741.0</td>\n",
       "      <td>349.0</td>\n",
       "      <td>1.8672</td>\n",
       "      <td>84700.0</td>\n",
       "    </tr>\n",
       "    <tr>\n",
       "      <th>20639</th>\n",
       "      <td>39.37</td>\n",
       "      <td>-121.24</td>\n",
       "      <td>16.0</td>\n",
       "      <td>2785.0</td>\n",
       "      <td>616.0</td>\n",
       "      <td>1387.0</td>\n",
       "      <td>530.0</td>\n",
       "      <td>2.3886</td>\n",
       "      <td>89400.0</td>\n",
       "    </tr>\n",
       "  </tbody>\n",
       "</table>\n",
       "<p>15687 rows × 9 columns</p>\n",
       "</div>"
      ],
      "text/plain": [
       "       latitude  longitude  housing_median_age  total_rooms  total_bedrooms  \\\n",
       "701       37.64    -121.97                32.0       1283.0           194.0   \n",
       "830       37.61    -121.99                 9.0       3666.0           711.0   \n",
       "859       37.57    -121.97                21.0       4342.0           783.0   \n",
       "860       37.58    -121.96                15.0       3575.0           597.0   \n",
       "861       37.58    -121.98                20.0       4126.0          1031.0   \n",
       "...         ...        ...                 ...          ...             ...   \n",
       "20635     39.48    -121.09                25.0       1665.0           374.0   \n",
       "20636     39.49    -121.21                18.0        697.0           150.0   \n",
       "20637     39.43    -121.22                17.0       2254.0           485.0   \n",
       "20638     39.43    -121.32                18.0       1860.0           409.0   \n",
       "20639     39.37    -121.24                16.0       2785.0           616.0   \n",
       "\n",
       "       population  households  median_income  median_house_value  \n",
       "701         485.0       171.0         6.0574            431000.0  \n",
       "830        2341.0       703.0         4.6458            217000.0  \n",
       "859        2172.0       789.0         4.6146            247600.0  \n",
       "860        1777.0       559.0         5.7192            283500.0  \n",
       "861        2079.0       975.0         3.6832            216900.0  \n",
       "...           ...         ...            ...                 ...  \n",
       "20635       845.0       330.0         1.5603             78100.0  \n",
       "20636       356.0       114.0         2.5568             77100.0  \n",
       "20637      1007.0       433.0         1.7000             92300.0  \n",
       "20638       741.0       349.0         1.8672             84700.0  \n",
       "20639      1387.0       530.0         2.3886             89400.0  \n",
       "\n",
       "[15687 rows x 9 columns]"
      ]
     },
     "execution_count": 4,
     "metadata": {},
     "output_type": "execute_result"
    }
   ],
   "source": [
    "# Preparation of dataset by considering only the required features\n",
    "df_subset = df[(df.ocean_proximity=='<1H OCEAN') | (df.ocean_proximity=='INLAND')]\n",
    "df_subset = df_subset[['latitude', 'longitude', 'housing_median_age', 'total_rooms', 'total_bedrooms', 'population', 'households', 'median_income', 'median_house_value']]\n",
    "df_subset"
   ]
  },
  {
   "cell_type": "code",
   "execution_count": 5,
   "id": "c65aacc3",
   "metadata": {
    "tags": []
   },
   "outputs": [
    {
     "data": {
      "text/html": [
       "<div>\n",
       "<style scoped>\n",
       "    .dataframe tbody tr th:only-of-type {\n",
       "        vertical-align: middle;\n",
       "    }\n",
       "\n",
       "    .dataframe tbody tr th {\n",
       "        vertical-align: top;\n",
       "    }\n",
       "\n",
       "    .dataframe thead th {\n",
       "        text-align: right;\n",
       "    }\n",
       "</style>\n",
       "<table border=\"1\" class=\"dataframe\">\n",
       "  <thead>\n",
       "    <tr style=\"text-align: right;\">\n",
       "      <th></th>\n",
       "      <th>latitude</th>\n",
       "      <th>longitude</th>\n",
       "      <th>housing_median_age</th>\n",
       "      <th>total_rooms</th>\n",
       "      <th>total_bedrooms</th>\n",
       "      <th>population</th>\n",
       "      <th>households</th>\n",
       "      <th>median_income</th>\n",
       "      <th>median_house_value</th>\n",
       "    </tr>\n",
       "  </thead>\n",
       "  <tbody>\n",
       "    <tr>\n",
       "      <th>0</th>\n",
       "      <td>37.64</td>\n",
       "      <td>-121.97</td>\n",
       "      <td>32.0</td>\n",
       "      <td>1283.0</td>\n",
       "      <td>194.0</td>\n",
       "      <td>485.0</td>\n",
       "      <td>171.0</td>\n",
       "      <td>6.0574</td>\n",
       "      <td>431000.0</td>\n",
       "    </tr>\n",
       "    <tr>\n",
       "      <th>1</th>\n",
       "      <td>37.61</td>\n",
       "      <td>-121.99</td>\n",
       "      <td>9.0</td>\n",
       "      <td>3666.0</td>\n",
       "      <td>711.0</td>\n",
       "      <td>2341.0</td>\n",
       "      <td>703.0</td>\n",
       "      <td>4.6458</td>\n",
       "      <td>217000.0</td>\n",
       "    </tr>\n",
       "    <tr>\n",
       "      <th>2</th>\n",
       "      <td>37.57</td>\n",
       "      <td>-121.97</td>\n",
       "      <td>21.0</td>\n",
       "      <td>4342.0</td>\n",
       "      <td>783.0</td>\n",
       "      <td>2172.0</td>\n",
       "      <td>789.0</td>\n",
       "      <td>4.6146</td>\n",
       "      <td>247600.0</td>\n",
       "    </tr>\n",
       "    <tr>\n",
       "      <th>3</th>\n",
       "      <td>37.58</td>\n",
       "      <td>-121.96</td>\n",
       "      <td>15.0</td>\n",
       "      <td>3575.0</td>\n",
       "      <td>597.0</td>\n",
       "      <td>1777.0</td>\n",
       "      <td>559.0</td>\n",
       "      <td>5.7192</td>\n",
       "      <td>283500.0</td>\n",
       "    </tr>\n",
       "    <tr>\n",
       "      <th>4</th>\n",
       "      <td>37.58</td>\n",
       "      <td>-121.98</td>\n",
       "      <td>20.0</td>\n",
       "      <td>4126.0</td>\n",
       "      <td>1031.0</td>\n",
       "      <td>2079.0</td>\n",
       "      <td>975.0</td>\n",
       "      <td>3.6832</td>\n",
       "      <td>216900.0</td>\n",
       "    </tr>\n",
       "    <tr>\n",
       "      <th>...</th>\n",
       "      <td>...</td>\n",
       "      <td>...</td>\n",
       "      <td>...</td>\n",
       "      <td>...</td>\n",
       "      <td>...</td>\n",
       "      <td>...</td>\n",
       "      <td>...</td>\n",
       "      <td>...</td>\n",
       "      <td>...</td>\n",
       "    </tr>\n",
       "    <tr>\n",
       "      <th>15682</th>\n",
       "      <td>39.48</td>\n",
       "      <td>-121.09</td>\n",
       "      <td>25.0</td>\n",
       "      <td>1665.0</td>\n",
       "      <td>374.0</td>\n",
       "      <td>845.0</td>\n",
       "      <td>330.0</td>\n",
       "      <td>1.5603</td>\n",
       "      <td>78100.0</td>\n",
       "    </tr>\n",
       "    <tr>\n",
       "      <th>15683</th>\n",
       "      <td>39.49</td>\n",
       "      <td>-121.21</td>\n",
       "      <td>18.0</td>\n",
       "      <td>697.0</td>\n",
       "      <td>150.0</td>\n",
       "      <td>356.0</td>\n",
       "      <td>114.0</td>\n",
       "      <td>2.5568</td>\n",
       "      <td>77100.0</td>\n",
       "    </tr>\n",
       "    <tr>\n",
       "      <th>15684</th>\n",
       "      <td>39.43</td>\n",
       "      <td>-121.22</td>\n",
       "      <td>17.0</td>\n",
       "      <td>2254.0</td>\n",
       "      <td>485.0</td>\n",
       "      <td>1007.0</td>\n",
       "      <td>433.0</td>\n",
       "      <td>1.7000</td>\n",
       "      <td>92300.0</td>\n",
       "    </tr>\n",
       "    <tr>\n",
       "      <th>15685</th>\n",
       "      <td>39.43</td>\n",
       "      <td>-121.32</td>\n",
       "      <td>18.0</td>\n",
       "      <td>1860.0</td>\n",
       "      <td>409.0</td>\n",
       "      <td>741.0</td>\n",
       "      <td>349.0</td>\n",
       "      <td>1.8672</td>\n",
       "      <td>84700.0</td>\n",
       "    </tr>\n",
       "    <tr>\n",
       "      <th>15686</th>\n",
       "      <td>39.37</td>\n",
       "      <td>-121.24</td>\n",
       "      <td>16.0</td>\n",
       "      <td>2785.0</td>\n",
       "      <td>616.0</td>\n",
       "      <td>1387.0</td>\n",
       "      <td>530.0</td>\n",
       "      <td>2.3886</td>\n",
       "      <td>89400.0</td>\n",
       "    </tr>\n",
       "  </tbody>\n",
       "</table>\n",
       "<p>15687 rows × 9 columns</p>\n",
       "</div>"
      ],
      "text/plain": [
       "       latitude  longitude  housing_median_age  total_rooms  total_bedrooms  \\\n",
       "0         37.64    -121.97                32.0       1283.0           194.0   \n",
       "1         37.61    -121.99                 9.0       3666.0           711.0   \n",
       "2         37.57    -121.97                21.0       4342.0           783.0   \n",
       "3         37.58    -121.96                15.0       3575.0           597.0   \n",
       "4         37.58    -121.98                20.0       4126.0          1031.0   \n",
       "...         ...        ...                 ...          ...             ...   \n",
       "15682     39.48    -121.09                25.0       1665.0           374.0   \n",
       "15683     39.49    -121.21                18.0        697.0           150.0   \n",
       "15684     39.43    -121.22                17.0       2254.0           485.0   \n",
       "15685     39.43    -121.32                18.0       1860.0           409.0   \n",
       "15686     39.37    -121.24                16.0       2785.0           616.0   \n",
       "\n",
       "       population  households  median_income  median_house_value  \n",
       "0           485.0       171.0         6.0574            431000.0  \n",
       "1          2341.0       703.0         4.6458            217000.0  \n",
       "2          2172.0       789.0         4.6146            247600.0  \n",
       "3          1777.0       559.0         5.7192            283500.0  \n",
       "4          2079.0       975.0         3.6832            216900.0  \n",
       "...           ...         ...            ...                 ...  \n",
       "15682       845.0       330.0         1.5603             78100.0  \n",
       "15683       356.0       114.0         2.5568             77100.0  \n",
       "15684      1007.0       433.0         1.7000             92300.0  \n",
       "15685       741.0       349.0         1.8672             84700.0  \n",
       "15686      1387.0       530.0         2.3886             89400.0  \n",
       "\n",
       "[15687 rows x 9 columns]"
      ]
     },
     "execution_count": 5,
     "metadata": {},
     "output_type": "execute_result"
    }
   ],
   "source": [
    "# Dataset\n",
    "df_subset.reset_index(drop=True, inplace=True)\n",
    "df_subset"
   ]
  },
  {
   "cell_type": "markdown",
   "id": "52c08093",
   "metadata": {},
   "source": [
    "# Question 1\n",
    "\n",
    "There's one feature with missing values. What is it?\n",
    "- total_rooms\n",
    "- total_bedrooms\n",
    "- population\n",
    "- households"
   ]
  },
  {
   "cell_type": "code",
   "execution_count": 6,
   "id": "a1a613a8",
   "metadata": {
    "tags": []
   },
   "outputs": [
    {
     "data": {
      "text/plain": [
       "latitude                0\n",
       "longitude               0\n",
       "housing_median_age      0\n",
       "total_rooms             0\n",
       "total_bedrooms        157\n",
       "population              0\n",
       "households              0\n",
       "median_income           0\n",
       "median_house_value      0\n",
       "dtype: int64"
      ]
     },
     "execution_count": 6,
     "metadata": {},
     "output_type": "execute_result"
    }
   ],
   "source": [
    "# Answer 1\n",
    "df_subset.isna().sum()"
   ]
  },
  {
   "cell_type": "markdown",
   "id": "ddab5b4b",
   "metadata": {},
   "source": [
    "# Question 2\n",
    "\n",
    "What's the median (50% percentile) for variable 'population'?\n",
    "- 995\n",
    "- 1095\n",
    "- 1195\n",
    "- 1295"
   ]
  },
  {
   "cell_type": "code",
   "execution_count": 7,
   "id": "1ad60a82",
   "metadata": {
    "tags": []
   },
   "outputs": [
    {
     "data": {
      "text/plain": [
       "1195.0"
      ]
     },
     "execution_count": 7,
     "metadata": {},
     "output_type": "execute_result"
    }
   ],
   "source": [
    "# Answer 2\n",
    "population_median = df_subset.population.median()\n",
    "population_median"
   ]
  },
  {
   "cell_type": "markdown",
   "id": "1e4277e3",
   "metadata": {},
   "source": [
    "# Prepare and split the dataset\n",
    "\n",
    "- Shuffle the initial dataset, use seed 42.\n",
    "- Split your data in train/val/test sets, with 60%/20%/20% distribution.\n",
    "- Apply the log transformation to the median_house_value variable using the np.log1p() function."
   ]
  },
  {
   "cell_type": "code",
   "execution_count": 8,
   "id": "edfe48b7",
   "metadata": {
    "tags": []
   },
   "outputs": [
    {
     "data": {
      "text/plain": [
       "array([    0,     1,     2, ..., 15684, 15685, 15686])"
      ]
     },
     "execution_count": 8,
     "metadata": {},
     "output_type": "execute_result"
    }
   ],
   "source": [
    "# Get indexes of datframe\n",
    "idx = df_subset.index.values\n",
    "idx"
   ]
  },
  {
   "cell_type": "code",
   "execution_count": 9,
   "id": "27c645e0",
   "metadata": {
    "tags": []
   },
   "outputs": [
    {
     "data": {
      "text/plain": [
       "array([15183,  4469,  9316, ...,  5390,   860,  7270])"
      ]
     },
     "execution_count": 9,
     "metadata": {},
     "output_type": "execute_result"
    }
   ],
   "source": [
    "# Changing order by using sedd value 42\n",
    "np.random.seed(42)\n",
    "np.random.shuffle(idx)\n",
    "idx"
   ]
  },
  {
   "cell_type": "code",
   "execution_count": 10,
   "id": "f6d0e5d4",
   "metadata": {
    "tags": []
   },
   "outputs": [
    {
     "data": {
      "text/plain": [
       "15687"
      ]
     },
     "execution_count": 10,
     "metadata": {},
     "output_type": "execute_result"
    }
   ],
   "source": [
    "# Get number of indexes\n",
    "n = len(idx)\n",
    "n"
   ]
  },
  {
   "cell_type": "code",
   "execution_count": 11,
   "id": "33823241",
   "metadata": {
    "tags": []
   },
   "outputs": [
    {
     "name": "stdout",
     "output_type": "stream",
     "text": [
      "n_train:  9413 , n_val:  3137 , n_test:  3137\n"
     ]
    }
   ],
   "source": [
    "# Get number of training, validation and test records\n",
    "n_val = int(n*.2)\n",
    "n_test = int(n*.2)\n",
    "n_train = n - n_val - n_test\n",
    "print('n_train: ',n_train, ', n_val: ',n_val, ', n_test: ',n_test)"
   ]
  },
  {
   "cell_type": "code",
   "execution_count": 12,
   "id": "b5e30f17",
   "metadata": {
    "tags": []
   },
   "outputs": [],
   "source": [
    "# Define indexes of training, validation and test data to extract from dataframe source\n",
    "idx_train = idx[:n_train]\n",
    "idx_val = idx[n_train:n_train+n_val]\n",
    "idx_test = idx[n_train+n_val:]"
   ]
  },
  {
   "cell_type": "code",
   "execution_count": 13,
   "id": "4575f70c-c6d4-4b36-80df-7be4a8c129f3",
   "metadata": {
    "tags": []
   },
   "outputs": [
    {
     "data": {
      "text/plain": [
       "<Axes: >"
      ]
     },
     "execution_count": 13,
     "metadata": {},
     "output_type": "execute_result"
    },
    {
     "data": {
      "image/png": "[encoded data removed]",
      "text/plain": [
       "<Figure size 640x480 with 1 Axes>"
      ]
     },
     "metadata": {},
     "output_type": "display_data"
    }
   ],
   "source": [
    "# Plot distribution of values for the variable 'median_house_value'\n",
    "df_subset.median_house_value.hist()"
   ]
  },
  {
   "cell_type": "code",
   "execution_count": 14,
   "id": "2d30347d-d149-4514-9959-417d7f24c207",
   "metadata": {
    "tags": []
   },
   "outputs": [
    {
     "data": {
      "text/plain": [
       "<Axes: >"
      ]
     },
     "execution_count": 14,
     "metadata": {},
     "output_type": "execute_result"
    },
    {
     "data": {
      "image/png": "[encoded data removed]",
      "text/plain": [
       "<Figure size 640x480 with 1 Axes>"
      ]
     },
     "metadata": {},
     "output_type": "display_data"
    }
   ],
   "source": [
    "# Plot distribution of values for the variable 'median_house_value' changed by applying the function log(x+1)\n",
    "df_subset.loc[:,'median_house_value']=df_subset.median_house_value.apply(lambda x: np.log1p(x),)\n",
    "df_subset.median_house_value.hist()"
   ]
  },
  {
   "cell_type": "code",
   "execution_count": 15,
   "id": "5c580916",
   "metadata": {
    "tags": []
   },
   "outputs": [],
   "source": [
    "# Definition of training, validation and test dataframes\n",
    "df_subset_train = df_subset.iloc[idx_train]\n",
    "df_subset_val = df_subset.iloc[idx_val]\n",
    "df_subset_test = df_subset.iloc[idx_test]"
   ]
  },
  {
   "cell_type": "code",
   "execution_count": 16,
   "id": "2b1eabb4-ef1a-4ef9-ab1c-8caceb610274",
   "metadata": {
    "tags": []
   },
   "outputs": [
    {
     "data": {
      "text/html": [
       "<div>\n",
       "<style scoped>\n",
       "    .dataframe tbody tr th:only-of-type {\n",
       "        vertical-align: middle;\n",
       "    }\n",
       "\n",
       "    .dataframe tbody tr th {\n",
       "        vertical-align: top;\n",
       "    }\n",
       "\n",
       "    .dataframe thead th {\n",
       "        text-align: right;\n",
       "    }\n",
       "</style>\n",
       "<table border=\"1\" class=\"dataframe\">\n",
       "  <thead>\n",
       "    <tr style=\"text-align: right;\">\n",
       "      <th></th>\n",
       "      <th>latitude</th>\n",
       "      <th>longitude</th>\n",
       "      <th>housing_median_age</th>\n",
       "      <th>total_rooms</th>\n",
       "      <th>total_bedrooms</th>\n",
       "      <th>population</th>\n",
       "      <th>households</th>\n",
       "      <th>median_income</th>\n",
       "      <th>median_house_value</th>\n",
       "    </tr>\n",
       "  </thead>\n",
       "  <tbody>\n",
       "    <tr>\n",
       "      <th>12249</th>\n",
       "      <td>36.23</td>\n",
       "      <td>-119.14</td>\n",
       "      <td>22.0</td>\n",
       "      <td>2935.0</td>\n",
       "      <td>523.0</td>\n",
       "      <td>1927.0</td>\n",
       "      <td>530.0</td>\n",
       "      <td>2.5875</td>\n",
       "      <td>11.161963</td>\n",
       "    </tr>\n",
       "    <tr>\n",
       "      <th>2221</th>\n",
       "      <td>34.12</td>\n",
       "      <td>-117.79</td>\n",
       "      <td>16.0</td>\n",
       "      <td>2426.0</td>\n",
       "      <td>426.0</td>\n",
       "      <td>1319.0</td>\n",
       "      <td>446.0</td>\n",
       "      <td>4.8125</td>\n",
       "      <td>12.321635</td>\n",
       "    </tr>\n",
       "    <tr>\n",
       "      <th>13538</th>\n",
       "      <td>33.68</td>\n",
       "      <td>-117.97</td>\n",
       "      <td>26.0</td>\n",
       "      <td>3653.0</td>\n",
       "      <td>568.0</td>\n",
       "      <td>1930.0</td>\n",
       "      <td>585.0</td>\n",
       "      <td>5.7301</td>\n",
       "      <td>12.471896</td>\n",
       "    </tr>\n",
       "    <tr>\n",
       "      <th>4696</th>\n",
       "      <td>34.10</td>\n",
       "      <td>-118.03</td>\n",
       "      <td>32.0</td>\n",
       "      <td>2668.0</td>\n",
       "      <td>609.0</td>\n",
       "      <td>1512.0</td>\n",
       "      <td>541.0</td>\n",
       "      <td>2.9422</td>\n",
       "      <td>12.359227</td>\n",
       "    </tr>\n",
       "    <tr>\n",
       "      <th>1229</th>\n",
       "      <td>37.34</td>\n",
       "      <td>-121.87</td>\n",
       "      <td>39.0</td>\n",
       "      <td>2479.0</td>\n",
       "      <td>541.0</td>\n",
       "      <td>1990.0</td>\n",
       "      <td>506.0</td>\n",
       "      <td>2.4306</td>\n",
       "      <td>12.574531</td>\n",
       "    </tr>\n",
       "    <tr>\n",
       "      <th>...</th>\n",
       "      <td>...</td>\n",
       "      <td>...</td>\n",
       "      <td>...</td>\n",
       "      <td>...</td>\n",
       "      <td>...</td>\n",
       "      <td>...</td>\n",
       "      <td>...</td>\n",
       "      <td>...</td>\n",
       "      <td>...</td>\n",
       "    </tr>\n",
       "    <tr>\n",
       "      <th>11774</th>\n",
       "      <td>34.44</td>\n",
       "      <td>-119.15</td>\n",
       "      <td>33.0</td>\n",
       "      <td>2005.0</td>\n",
       "      <td>392.0</td>\n",
       "      <td>1043.0</td>\n",
       "      <td>351.0</td>\n",
       "      <td>5.3080</td>\n",
       "      <td>12.604516</td>\n",
       "    </tr>\n",
       "    <tr>\n",
       "      <th>10757</th>\n",
       "      <td>36.13</td>\n",
       "      <td>-119.13</td>\n",
       "      <td>28.0</td>\n",
       "      <td>1673.0</td>\n",
       "      <td>385.0</td>\n",
       "      <td>1434.0</td>\n",
       "      <td>371.0</td>\n",
       "      <td>2.0586</td>\n",
       "      <td>10.618910</td>\n",
       "    </tr>\n",
       "    <tr>\n",
       "      <th>11770</th>\n",
       "      <td>34.13</td>\n",
       "      <td>-118.08</td>\n",
       "      <td>46.0</td>\n",
       "      <td>1238.0</td>\n",
       "      <td>147.0</td>\n",
       "      <td>377.0</td>\n",
       "      <td>145.0</td>\n",
       "      <td>8.4546</td>\n",
       "      <td>13.122367</td>\n",
       "    </tr>\n",
       "    <tr>\n",
       "      <th>10402</th>\n",
       "      <td>34.29</td>\n",
       "      <td>-118.46</td>\n",
       "      <td>24.0</td>\n",
       "      <td>3668.0</td>\n",
       "      <td>890.0</td>\n",
       "      <td>3151.0</td>\n",
       "      <td>810.0</td>\n",
       "      <td>3.0526</td>\n",
       "      <td>12.118885</td>\n",
       "    </tr>\n",
       "    <tr>\n",
       "      <th>4147</th>\n",
       "      <td>34.00</td>\n",
       "      <td>-118.41</td>\n",
       "      <td>18.0</td>\n",
       "      <td>1307.0</td>\n",
       "      <td>441.0</td>\n",
       "      <td>884.0</td>\n",
       "      <td>456.0</td>\n",
       "      <td>2.9338</td>\n",
       "      <td>12.529246</td>\n",
       "    </tr>\n",
       "  </tbody>\n",
       "</table>\n",
       "<p>9413 rows × 9 columns</p>\n",
       "</div>"
      ],
      "text/plain": [
       "       latitude  longitude  housing_median_age  total_rooms  total_bedrooms  \\\n",
       "12249     36.23    -119.14                22.0       2935.0           523.0   \n",
       "2221      34.12    -117.79                16.0       2426.0           426.0   \n",
       "13538     33.68    -117.97                26.0       3653.0           568.0   \n",
       "4696      34.10    -118.03                32.0       2668.0           609.0   \n",
       "1229      37.34    -121.87                39.0       2479.0           541.0   \n",
       "...         ...        ...                 ...          ...             ...   \n",
       "11774     34.44    -119.15                33.0       2005.0           392.0   \n",
       "10757     36.13    -119.13                28.0       1673.0           385.0   \n",
       "11770     34.13    -118.08                46.0       1238.0           147.0   \n",
       "10402     34.29    -118.46                24.0       3668.0           890.0   \n",
       "4147      34.00    -118.41                18.0       1307.0           441.0   \n",
       "\n",
       "       population  households  median_income  median_house_value  \n",
       "12249      1927.0       530.0         2.5875           11.161963  \n",
       "2221       1319.0       446.0         4.8125           12.321635  \n",
       "13538      1930.0       585.0         5.7301           12.471896  \n",
       "4696       1512.0       541.0         2.9422           12.359227  \n",
       "1229       1990.0       506.0         2.4306           12.574531  \n",
       "...           ...         ...            ...                 ...  \n",
       "11774      1043.0       351.0         5.3080           12.604516  \n",
       "10757      1434.0       371.0         2.0586           10.618910  \n",
       "11770       377.0       145.0         8.4546           13.122367  \n",
       "10402      3151.0       810.0         3.0526           12.118885  \n",
       "4147        884.0       456.0         2.9338           12.529246  \n",
       "\n",
       "[9413 rows x 9 columns]"
      ]
     },
     "execution_count": 16,
     "metadata": {},
     "output_type": "execute_result"
    }
   ],
   "source": [
    "# Show training dataframe\n",
    "df_subset_train"
   ]
  },
  {
   "cell_type": "markdown",
   "id": "9087d79c-2619-45e5-8fa8-24e79c9034d1",
   "metadata": {},
   "source": [
    "# Question 3\n",
    "- We need to deal with missing values for the column from Q1.\n",
    "- We have two options: fill it with 0 or with the mean of this variable.\n",
    "- Try both options. For each, train a linear regression model without regularization using the code from the lessons.\n",
    "- For computing the mean, use the training only!\n",
    "- Use the validation dataset to evaluate the models and compare the RMSE of each option.\n",
    "- Round the RMSE scores to 2 decimal digits using round(score, 2)\n",
    "- Which option gives better RMSE?\n",
    "\n",
    "Options:\n",
    "\n",
    "- With 0\n",
    "- With mean\n",
    "- Both are equally good\n"
   ]
  },
  {
   "cell_type": "code",
   "execution_count": 17,
   "id": "f4b59151-2659-46ce-95f0-ad27efc7e8e1",
   "metadata": {
    "tags": []
   },
   "outputs": [],
   "source": [
    "# Function for training linear regression\n",
    "def training_linear_regression(X,Y):\n",
    "    \"\"\"\n",
    "    Inputs:\n",
    "        - X -> ndarray of shape (N,m+1) where N is the number of samples, qwhile , is the number of features\n",
    "        - Y -> ndarray of shape (N,1)\n",
    "        \n",
    "    Output:\n",
    "        - W -> weights matrix of shape (m+1,1)\n",
    "    \"\"\"\n",
    "    # The analytical solution for weights is W = inv(X.T*X)*X.T*Y\n",
    "    XTX = X.T@X\n",
    "    XTX_inv = np.linalg.inv(XTX)\n",
    "    W = XTX_inv@(X.T@Y)\n",
    "    return W"
   ]
  },
  {
   "cell_type": "code",
   "execution_count": 18,
   "id": "c4397c70-5ba6-4020-bf6b-6bff47c75b4c",
   "metadata": {
    "tags": []
   },
   "outputs": [],
   "source": [
    "# Funtion to apply linear regression\n",
    "def linear_regression(X,W):\n",
    "    \"\"\"\n",
    "    Inputs:\n",
    "        . X -> ndarray of shape (N,m+1) where N is the number of samples, qwhile , is the number of features\n",
    "        - W -> weights matrix of shape (m+1,1)\n",
    "        \n",
    "    Output:\n",
    "        - Y -> ndarray of shape (N,1)\n",
    "    \"\"\"\n",
    "    Y = X@W\n",
    "    return Y"
   ]
  },
  {
   "cell_type": "code",
   "execution_count": 19,
   "id": "99d1537e-f8af-45af-8388-f802fe550781",
   "metadata": {
    "tags": []
   },
   "outputs": [],
   "source": [
    "# Function to compute Root mean squared error\n",
    "def RMSE(Y_true, Y_pred):\n",
    "    \"\"\"\n",
    "    Inputs:\n",
    "        - Y_true -> ndarray of shape (N,1). True values\n",
    "        - Y_pred -> ndarray of shape (N,1). Values prediction\n",
    "        \n",
    "    Output:\n",
    "        - rmse -> float Root mean squared error\n",
    "    \"\"\"\n",
    "    rmse = round(np.sqrt(np.mean((Y_true - Y_pred)**2)),2)\n",
    "    return rmse"
   ]
  },
  {
   "cell_type": "markdown",
   "id": "f8d57809-8c24-477b-bad5-584aa5c16d2f",
   "metadata": {},
   "source": [
    "## Dealing missing values with mean value"
   ]
  },
  {
   "cell_type": "code",
   "execution_count": 20,
   "id": "b7f68d9b-346b-4c0e-8939-6fcb1275e38f",
   "metadata": {
    "tags": []
   },
   "outputs": [],
   "source": [
    "# Mean value of total_bedrooms variable\n",
    "total_bed_mean = df_subset_train.total_bedrooms.mean().round(1)\n",
    "# Creation of copy of dataframe\n",
    "df_subset_train_1 = df_subset_train.copy()\n",
    "# Dealing missing values with the mean values for the variable total_bedrooms\n",
    "df_subset_train_1.loc[:,'total_bedrooms'] = df_subset_train_1.total_bedrooms.fillna(total_bed_mean)"
   ]
  },
  {
   "cell_type": "code",
   "execution_count": 21,
   "id": "b471ed6f-a701-41b3-83c2-515c022086f7",
   "metadata": {},
   "outputs": [],
   "source": [
    "# Definition of training data\n",
    "Y_train = df_subset_train_1.loc[:,'median_house_value'].to_numpy().reshape(-1,1)\n",
    "X_train_1 = df_subset_train_1.drop(columns=['median_house_value']).to_numpy()\n",
    "X_train_1 = np.hstack((np.ones(X_train_1.shape[0]).reshape(-1,1), X_train_1))"
   ]
  },
  {
   "cell_type": "code",
   "execution_count": 22,
   "id": "14a66ef1-548c-4cf0-a32c-9c07d83c60d8",
   "metadata": {
    "tags": []
   },
   "outputs": [],
   "source": [
    "# Creation of copy of dataframe\n",
    "df_subset_val_1 = df_subset_val.copy()\n",
    "# Dealing missing values with the mean values for the variable total_bedrooms\n",
    "df_subset_val_1.loc[:,'total_bedrooms'] = df_subset_val_1.total_bedrooms.fillna(total_bed_mean)"
   ]
  },
  {
   "cell_type": "code",
   "execution_count": 23,
   "id": "be3792c8-5bb4-4ca9-83df-f12a1f7ddfe8",
   "metadata": {
    "tags": []
   },
   "outputs": [],
   "source": [
    "# Definition of validation data\n",
    "Y_val = df_subset_val_1.loc[:,'median_house_value'].to_numpy().reshape(-1,1)\n",
    "X_val_1 = df_subset_val_1.drop(columns=['median_house_value']).to_numpy()\n",
    "X_val_1 = np.hstack((np.ones(X_val_1.shape[0]).reshape(-1,1), X_val_1))"
   ]
  },
  {
   "cell_type": "code",
   "execution_count": 24,
   "id": "5e5e0b6b-5ff3-45ab-a1ca-d12a42b3fb9e",
   "metadata": {
    "tags": []
   },
   "outputs": [
    {
     "name": "stdout",
     "output_type": "stream",
     "text": [
      " RMSE: 0.34\n"
     ]
    }
   ],
   "source": [
    "# Training data\n",
    "W_1 = training_linear_regression(X_train_1, Y_train)\n",
    "# Prediction values by using validation set\n",
    "Y_val_pred_1 = linear_regression(X_val_1,W_1)\n",
    "rmse_1 = RMSE(Y_val, Y_val_pred_1)\n",
    "# print RMSE\n",
    "print(f\" RMSE: {rmse_1}\")"
   ]
  },
  {
   "cell_type": "markdown",
   "id": "47098976-b3ce-496c-b322-b1686ba51898",
   "metadata": {},
   "source": [
    "## Dealing missing values with 0"
   ]
  },
  {
   "cell_type": "code",
   "execution_count": 25,
   "id": "af33cf2e-805b-49da-8aed-d5b9375448e6",
   "metadata": {
    "tags": []
   },
   "outputs": [],
   "source": [
    "# Missing values with 0\n",
    "# Training set\n",
    "df_subset_train_2 = df_subset_train.copy()\n",
    "df_subset_train_2.loc[:,'total_bedrooms'] = df_subset_train_2.total_bedrooms.fillna(0)\n",
    "# Validation set\n",
    "df_subset_val_2 = df_subset_val.copy()\n",
    "df_subset_val_2.loc[:,'total_bedrooms'] = df_subset_val_2.total_bedrooms.fillna(0)"
   ]
  },
  {
   "cell_type": "code",
   "execution_count": 26,
   "id": "bcbbefec-cf7a-45e5-864e-7f1e4196c619",
   "metadata": {
    "tags": []
   },
   "outputs": [],
   "source": [
    "# Training data\n",
    "X_train_2 = df_subset_train_2.drop(columns=['median_house_value']).to_numpy()\n",
    "X_train_2 = np.hstack((np.ones(X_train_2.shape[0]).reshape(-1,1), X_train_2))\n",
    "# Validation data\n",
    "X_val_2 = df_subset_val_2.drop(columns=['median_house_value']).to_numpy()\n",
    "X_val_2 = np.hstack((np.ones(X_val_2.shape[0]).reshape(-1,1), X_val_2))"
   ]
  },
  {
   "cell_type": "code",
   "execution_count": 27,
   "id": "a9d41630-a42d-4089-8aa0-1bb515b78ae8",
   "metadata": {
    "tags": []
   },
   "outputs": [
    {
     "name": "stdout",
     "output_type": "stream",
     "text": [
      "RMSE: 0.34\n"
     ]
    }
   ],
   "source": [
    "# Training data\n",
    "W_2 = training_linear_regression(X_train_2, Y_train)\n",
    "# Prediction values by using validation set\n",
    "Y_val_pred_2 = linear_regression(X_val_2,W_2)\n",
    "rmse_2 = RMSE(Y_val, Y_val_pred_2)\n",
    "print(f\"RMSE: {rmse_2}\")"
   ]
  },
  {
   "cell_type": "markdown",
   "id": "4dc95f30-d4be-496d-a6bc-23238c84ee44",
   "metadata": {},
   "source": [
    "# Question 4\n",
    "\n",
    "- Now let's train a regularized linear regression.\n",
    "- For this question, fill the NAs with 0.\n",
    "- Try different values of r from this list: [0, 0.000001, 0.0001, 0.001, 0.01, 0.1, 1, 5, 10].\n",
    "- Use RMSE to evaluate the model on the validation dataset.\n",
    "- Round the RMSE scores to 2 decimal digits.\n",
    "- Which r gives the best RMSE?\n",
    "\n",
    "If there are multiple options, select the smallest r.\n",
    "\n",
    "Options:\n",
    "\n",
    "- 0\n",
    "- 0.000001\n",
    "- 0.001\n",
    "- 0.0001\n"
   ]
  },
  {
   "cell_type": "code",
   "execution_count": 28,
   "id": "ea3ceddc-a401-48a5-9d07-ddcab2a3b5a5",
   "metadata": {
    "tags": []
   },
   "outputs": [],
   "source": [
    "# Function for the training with regularization\n",
    "def training_linear_regression_reg(X,Y,r):\n",
    "    \"\"\"\n",
    "    Inputs:\n",
    "        - X -> ndarray of shape (N,m+1) where N is the number of samples, qwhile , is the number of features\n",
    "        - Y -> ndarray of shape (N,1)\n",
    "        - r -> float regularization parameter\n",
    "        \n",
    "    Output:\n",
    "        - W -> weights matrix of shape (m+1,1)\n",
    "    \"\"\"\n",
    "    # The analytical solution for weights is W = inv(X.T*X)*X.T*Y\n",
    "    XTX = X.T@X\n",
    "    XTX += r*np.eye(XTX.shape[0])\n",
    "    XTX_inv = np.linalg.inv(XTX)\n",
    "    W = XTX_inv@(X.T@Y)\n",
    "    return W"
   ]
  },
  {
   "cell_type": "code",
   "execution_count": 29,
   "id": "0a713ee6-630e-4d04-866b-5778b180a634",
   "metadata": {
    "tags": []
   },
   "outputs": [
    {
     "name": "stdout",
     "output_type": "stream",
     "text": [
      "r= 0 -> RMSE= 0.34\n",
      "r= 1e-06 -> RMSE= 0.34\n",
      "r= 0.0001 -> RMSE= 0.34\n",
      "r= 0.001 -> RMSE= 0.34\n",
      "r= 0.01 -> RMSE= 0.34\n",
      "r= 0.1 -> RMSE= 0.34\n",
      "r= 1 -> RMSE= 0.34\n",
      "r= 5 -> RMSE= 0.35\n",
      "r= 10 -> RMSE= 0.35\n"
     ]
    }
   ],
   "source": [
    "# List of values for regularization parameter\n",
    "r_list =  [0, 0.000001, 0.0001, 0.001, 0.01, 0.1, 1, 5, 10]\n",
    "# For each value in r_list\n",
    "for r in r_list:\n",
    "    # training weights by using 0 to replace missing values\n",
    "    W2_r = training_linear_regression_reg(X_train_2, Y_train, r)\n",
    "    # Prediction of values by using validation dataset\n",
    "    Y_val_pred = linear_regression(X_val_2, W2_r)\n",
    "    # Compute RMSE\n",
    "    rmse = RMSE(Y_val, Y_val_pred)\n",
    "    print(f'r= {r} -> RMSE= {rmse}')"
   ]
  },
  {
   "cell_type": "markdown",
   "id": "fa4df80d-3d49-405a-8dc6-df1c9abbe56b",
   "metadata": {},
   "source": [
    "# Question 5\n",
    "- We used seed 42 for splitting the data. Let's find out how selecting the seed influences our score.\n",
    "- Try different seed values: [0, 1, 2, 3, 4, 5, 6, 7, 8, 9].\n",
    "- For each seed, do the train/validation/test split with 60%/20%/20% distribution.\n",
    "- Fill the missing values with 0 and train a model without regularization.\n",
    "- For each seed, evaluate the model on the validation dataset and collect the RMSE scores.\n",
    "- What's the standard deviation of all the scores? To compute the standard deviation, use np.std.\n",
    "- Round the result to 3 decimal digits (round(std, 3))\n",
    "\n",
    "# What's the value of std?\n",
    "- 0.5\n",
    "- 0.05\n",
    "- 0.005\n",
    "- 0.0005\n"
   ]
  },
  {
   "cell_type": "code",
   "execution_count": 30,
   "id": "3b432048-77f5-4cc1-8d0f-88a17701fa5a",
   "metadata": {
    "tags": []
   },
   "outputs": [],
   "source": [
    "# Definition of class for preparation of data\n",
    "class PreparationData():\n",
    "    \"\"\"\n",
    "    Class defined to prepare data.\n",
    "    \"\"\"\n",
    "    def __init__(self, dataframe):\n",
    "        \"\"\"\n",
    "        Constructor\n",
    "            Inputs:\n",
    "                - dataframe -> Dataframe of input\n",
    "        \"\"\"\n",
    "        self.df = dataframe\n",
    "        \n",
    "    def fillna(self, **kwargs):\n",
    "        \"\"\"\n",
    "        Method used to fill missing values\n",
    "        \"\"\"\n",
    "        for key, value in kwargs.items():\n",
    "            self.df.loc[:,key] = self.df[key].fillna(value)\n",
    "        \n",
    "    def split_dataframe(self, perc_train, perc_val, seed):\n",
    "        \"\"\"\n",
    "        Method used to split the input dataframe in training, validation and test dataframe\n",
    "        Inputs:\n",
    "            - perc_train -> percentage of data for definition of training data\n",
    "            - perc_val -> percentage of data for definition of validation data\n",
    "            - seed -> seed number\n",
    "        \n",
    "        Outputs:\n",
    "            - df_train -> Dataframe of training data\n",
    "            - df_val -> Dataframe of validation data\n",
    "            - df_test -> Dataframe of testing data\n",
    "        \"\"\"\n",
    "        # Get indexes\n",
    "        idx = self.df.index.values\n",
    "        # using seed\n",
    "        np.random.seed(seed)\n",
    "        # shuffle data\n",
    "        np.random.shuffle(idx)\n",
    "        # get number of records\n",
    "        n = len(idx)\n",
    "        # get number of training records\n",
    "        n_train = int(n*perc_train)\n",
    "        # get number of validation records\n",
    "        n_val = int(n*perc_val)\n",
    "        # get number of testing records\n",
    "        n_test = n - n_train - n_val\n",
    "        # get indexes of training records\n",
    "        idx_train = idx[:n_train]\n",
    "        # get indexes of validation records\n",
    "        idx_val = idx[n_train:n_train+n_val]\n",
    "        # get indexes of testing records\n",
    "        idx_test = idx[n_train+n_val:]\n",
    "        # get training dataframe \n",
    "        df_train = df_subset.iloc[idx_train]\n",
    "        # get validation dataframe\n",
    "        df_val = df_subset.iloc[idx_val]\n",
    "        # get testing dataframe\n",
    "        df_test = df_subset.iloc[idx_test]\n",
    "        # return dataframmes\n",
    "        return df_train, df_val, df_test"
   ]
  },
  {
   "cell_type": "code",
   "execution_count": 31,
   "id": "2d7cebe4-b167-4ea2-aa19-f1e323e843e7",
   "metadata": {},
   "outputs": [],
   "source": [
    "class LinearRegression():\n",
    "    \"\"\"\n",
    "    Class defined for linear regression\n",
    "    \"\"\"\n",
    "    def __init__(self, n_features):\n",
    "        \"\"\"\n",
    "        Constructor used to initialize the parameters \"weights\" of shape (n_features,1).\n",
    "        \"\"\"\n",
    "        self.W = np.random.randn(n_features).reshape(-1,1)\n",
    "        \n",
    "    def training(self,X,Y, r=0.):\n",
    "        \"\"\"\n",
    "        Method used for raining of weights\n",
    "        Inputs:\n",
    "            - X -> ndarray of shape (N,m+1) where N is the number of samples, qwhile , is the number of features\n",
    "            - Y -> ndarray of shape (N,1)\n",
    "\n",
    "        Output:\n",
    "            - W -> weights matrix of shape (m+1,1)\n",
    "        \"\"\"\n",
    "        # The analytical solution for weights is W = inv(X.T*X)*X.T*Y\n",
    "        XTX = X.T@X\n",
    "        if r > 0.:\n",
    "            XTX += r*np.eye(XTX.shape[0])\n",
    "        XTX_inv = np.linalg.inv(XTX)\n",
    "        self.W = XTX_inv@(X.T@Y)\n",
    "        \n",
    "    def predict(self, X):\n",
    "        \"\"\"\n",
    "        Method used to predict values from input values.\n",
    "        \"\"\"\n",
    "        return X@self.W\n",
    "    \n",
    "    def RMSE(self, Y_true, Y_pred):\n",
    "        \"\"\"\n",
    "        Method used to get value of Root mean squared error\n",
    "        Inputs:\n",
    "            - Y_true -> ndarray of shape (N,1)\n",
    "            - Y_pred -> ndarray of shape (N,1) prediction\n",
    "\n",
    "        Output:\n",
    "            - rmse -> float root mean squared error\n",
    "        \"\"\"\n",
    "        rmse = round(np.sqrt(np.mean((Y_true - Y_pred)**2)),2)\n",
    "        return rmse"
   ]
  },
  {
   "cell_type": "code",
   "execution_count": 32,
   "id": "f05ff659-10f3-4cbc-ba7c-5e53cb9032cf",
   "metadata": {
    "tags": []
   },
   "outputs": [
    {
     "name": "stdout",
     "output_type": "stream",
     "text": [
      "seed = 0 RMSE = 0.33\n",
      "seed = 1 RMSE = 0.34\n",
      "seed = 2 RMSE = 0.34\n",
      "seed = 3 RMSE = 0.34\n",
      "seed = 4 RMSE = 0.34\n",
      "seed = 5 RMSE = 0.34\n",
      "seed = 6 RMSE = 0.34\n",
      "seed = 7 RMSE = 0.34\n",
      "seed = 8 RMSE = 0.34\n",
      "seed = 9 RMSE = 0.34\n"
     ]
    }
   ],
   "source": [
    "# Training for more seed values\n",
    "seeds =  [0, 1, 2, 3, 4, 5, 6, 7, 8, 9]\n",
    "RMSEs = []\n",
    "prepare_data_obj = PreparationData(df_subset)\n",
    "kwargs = {'total_bedrooms':0}\n",
    "prepare_data_obj.fillna(**kwargs)\n",
    "perc_train, perc_val = .6, .2\n",
    "for seed in seeds:\n",
    "    df_train, df_val, df_test = prepare_data_obj.split_dataframe(perc_train, perc_val, seed)\n",
    "    # training\n",
    "    Y_train = df_train.loc[:,'median_house_value'].to_numpy().reshape(-1,1)\n",
    "    X_train = df_train.drop(columns=['median_house_value']).to_numpy()\n",
    "    X_train = np.hstack((np.ones(X_train.shape[0]).reshape(-1,1), X_train))\n",
    "    # validation\n",
    "    Y_val = df_val.loc[:,'median_house_value'].to_numpy().reshape(-1,1)\n",
    "    X_val = df_val.drop(columns=['median_house_value']).to_numpy()\n",
    "    X_val = np.hstack((np.ones(X_val.shape[0]).reshape(-1,1), X_val))\n",
    "    # testing\n",
    "    Y_test = df_test.loc[:,'median_house_value'].to_numpy().reshape(-1,1)\n",
    "    X_test = df_test.drop(columns=['median_house_value']).to_numpy()\n",
    "    X_test = np.hstack((np.ones(X_test.shape[0]).reshape(-1,1), X_test))\n",
    "    # Regression\n",
    "    linearRegression_obj = LinearRegression(X_train.shape[1]-1)\n",
    "    linearRegression_obj.training(X=X_train, Y=Y_train)\n",
    "    Y_val_pred = linearRegression_obj.predict(X=X_val)\n",
    "    RMSE = linearRegression_obj.RMSE(Y_true=Y_val, Y_pred=Y_val_pred)\n",
    "    RMSEs.append(RMSE)\n",
    "    print('seed =',seed, 'RMSE =',RMSE)"
   ]
  },
  {
   "cell_type": "code",
   "execution_count": 33,
   "id": "8148aa74-76e9-480f-b932-6cd5cf48d523",
   "metadata": {
    "tags": []
   },
   "outputs": [
    {
     "name": "stdout",
     "output_type": "stream",
     "text": [
      "std_scores = 0.003\n"
     ]
    }
   ],
   "source": [
    "# Compute the standard deviation of all scores by rounding the result to 3 decimal digits \n",
    "print('std_scores =',round(np.std(RMSEs),3))"
   ]
  },
  {
   "cell_type": "markdown",
   "id": "b39e6819-f528-4c52-b8d8-ef917e694b9e",
   "metadata": {},
   "source": [
    "# Question 6\n",
    "- Split the dataset like previously, use seed 9.\n",
    "- Combine train and validation datasets.\n",
    "- Fill the missing values with 0 and train a model with r=0.001.\n",
    "- What's the RMSE on the test dataset?\n",
    "\n",
    "Options:\n",
    "- 0.13\n",
    "- 0.23\n",
    "- 0.33\n",
    "- 0.43"
   ]
  },
  {
   "cell_type": "code",
   "execution_count": 34,
   "id": "6e773aec-520a-449d-a4c0-6482d689885f",
   "metadata": {
    "tags": []
   },
   "outputs": [
    {
     "name": "stdout",
     "output_type": "stream",
     "text": [
      "RMSE =  0.34\n"
     ]
    }
   ],
   "source": [
    "# Split the dataset like previously, use seed 9\n",
    "seed = 9\n",
    "perc_train, perc_val = .6, .2\n",
    "df_train, df_val, df_test = prepare_data_obj.split_dataframe(perc_train, perc_val, seed)\n",
    "# training data\n",
    "Y_train = df_train.loc[:,'median_house_value'].to_numpy().reshape(-1,1)\n",
    "X_train = df_train.drop(columns=['median_house_value']).to_numpy()\n",
    "X_train = np.hstack((np.ones(X_train.shape[0]).reshape(-1,1), X_train))\n",
    "# validation data\n",
    "Y_val = df_val.loc[:,'median_house_value'].to_numpy().reshape(-1,1)\n",
    "X_val = df_val.drop(columns=['median_house_value']).to_numpy()\n",
    "X_val = np.hstack((np.ones(X_val.shape[0]).reshape(-1,1), X_val))\n",
    "# Combine validation and training dataset\n",
    "X_train = np.vstack((X_train,X_val))\n",
    "Y_train = np.vstack((Y_train, Y_val))\n",
    "# testing data\n",
    "Y_test = df_test.loc[:,'median_house_value'].to_numpy().reshape(-1,1)\n",
    "X_test = df_test.drop(columns=['median_house_value']).to_numpy()\n",
    "X_test = np.hstack((np.ones(X_test.shape[0]).reshape(-1,1), X_test))\n",
    "# Traing linear regression with regularization parameter r=0.001\n",
    "linearRegression_obj = LinearRegression(X_train.shape[1]-1)\n",
    "linearRegression_obj.training(X=X_train, Y=Y_train, r=.001)\n",
    "# Prediction values for testing data\n",
    "Y_test_pred = linearRegression_obj.predict(X=X_test)\n",
    "# Compute RMSE for testing data\n",
    "RMSE = linearRegression_obj.RMSE(Y_true=Y_test, Y_pred=Y_test_pred)\n",
    "    \n",
    "print('RMSE = ',RMSE)"
   ]
  },
  {
   "cell_type": "code",
   "execution_count": null,
   "id": "69233370-f7ca-4b38-87f5-2920db927620",
   "metadata": {},
   "outputs": [],
   "source": []
  }
 ],
 "metadata": {
  "kernelspec": {
   "display_name": "Python 3 (ipykernel)",
   "language": "python",
   "name": "python3"
  },
  "language_info": {
   "codemirror_mode": {
    "name": "ipython",
    "version": 3
   },
   "file_extension": ".py",
   "mimetype": "text/x-python",
   "name": "python",
   "nbconvert_exporter": "python",
   "pygments_lexer": "ipython3",
   "version": "3.9.18"
  }
 },
 "nbformat": 4,
 "nbformat_minor": 5
}
