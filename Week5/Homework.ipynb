{
 "cells": [
  {
   "cell_type": "code",
   "execution_count": 1,
   "id": "4b93d6ff-94c1-4ed2-b998-306d3c3c92d0",
   "metadata": {
    "tags": []
   },
   "outputs": [],
   "source": [
    "# Import libraries\n"
   ]
  },
  {
   "cell_type": "markdown",
   "id": "f031e778-a595-45a0-8925-e0ced09cfb90",
   "metadata": {},
   "source": [
    "# Homework"
   ]
  },
  {
   "cell_type": "markdown",
   "id": "c4fdf6c1-40c4-4f56-82f6-1b214cb1d63a",
   "metadata": {},
   "source": [
    "In this homework, we will use Bank credit scoring dataset from [here](https://www.kaggle.com/datasets/kapturovalexander/bank-credit-scoring/data) aboyt data.\n",
    "While about environment, we will use __Pipenv__."
   ]
  },
  {
   "cell_type": "markdown",
   "id": "e033e148-dba8-441c-8cee-a91a802daeac",
   "metadata": {},
   "source": [
    "## Question 1\n",
    "- Install Pipenv\n",
    "- What's the version of pipenv you installed?\n",
    "- Use --version to find out"
   ]
  },
  {
   "cell_type": "markdown",
   "id": "6c4219a7-1c12-46d8-831c-9a18e82720c4",
   "metadata": {
    "tags": []
   },
   "source": [
    "To install Pipenv let's execute the following command by terminal:\n",
    "<code>\n",
    "    pip install --user pipenv\n",
    "</code>\n",
    "Then to check the version of pipenv let's run the following command:\n",
    "<code>\n",
    "    pipenv --version\n",
    "</code>\n",
    "In my case the pipenv version is"
   ]
  },
  {
   "cell_type": "code",
   "execution_count": 2,
   "id": "fbe62386-f08b-4df2-b9e6-d640d66a3187",
   "metadata": {
    "tags": []
   },
   "outputs": [
    {
     "name": "stdout",
     "output_type": "stream",
     "text": [
      "\u001b[1mpipenv\u001b[0m, version 2023.10.3\n"
     ]
    }
   ],
   "source": [
    "# Print pipenv version\n",
    "!pipenv --version"
   ]
  },
  {
   "cell_type": "markdown",
   "id": "f0045a2d-c2f4-4c6d-86d6-0629f5e17f7c",
   "metadata": {},
   "source": [
    "## Question 2\n",
    "- Use Pipenv to install Scikit-Learn version 1.3.1\n",
    "- What's the first hash for scikit-learn you get in Pipfile.lock?"
   ]
  },
  {
   "cell_type": "markdown",
   "id": "a17a49d4-8d9e-4515-922e-a1979424a6aa",
   "metadata": {
    "tags": []
   },
   "source": [
    "To create the environment and install scikit-learn, let's execute the following command into the current folder:\n",
    "<code>\n",
    "    pipenv install scikit-learn==1.3.1\n",
    "</code>\n",
    "The files Pipfile and Pipfile.lock will be created. \n",
    "After that, to activate its, let's run:\n",
    "<code>\n",
    "    pipenv shell\n",
    "</code>\n",
    "Let's activate Jupyter lab by using the following command:\n",
    "<code>\n",
    "    jupyter lab\n",
    "</code>"
   ]
  },
  {
   "cell_type": "code",
   "execution_count": 3,
   "id": "866cb1f4-1e45-46ba-8355-01d1fc416873",
   "metadata": {
    "tags": []
   },
   "outputs": [
    {
     "name": "stdout",
     "output_type": "stream",
     "text": [
      "{\n",
      "    \"_meta\": {\n",
      "        \"hash\": {\n",
      "            \"sha256\": \"1ad0d328b3b81fc037866d3a2948adb16c827a0792311e7a69f5172f4bcafb82\"\n",
      "        },\n",
      "        \"pipfile-spec\": 6,\n",
      "        \"requires\": {\n",
      "            \"python_version\": \"3.9\"\n",
      "        },\n",
      "        \"sources\": [\n",
      "            {\n",
      "                \"name\": \"pypi\",\n",
      "                \"url\": \"https://pypi.org/simple\",\n",
      "                \"verify_ssl\": true\n",
      "            }\n",
      "        ]\n",
      "    },\n",
      "    \"default\": {\n",
      "        \"blinker\": {\n",
      "            \"hashes\": [\n",
      "                \"sha256:152090d27c1c5c722ee7e48504b02d76502811ce02e1523553b4cf8c8b3d3a8d\",\n",
      "                \"sha256:296320d6c28b006eb5e32d4712202dbcdcbf5dc482da298c2f44881c43884aaa\"\n",
      "            ],\n",
      "            \"markers\": \"python_version >= '3.7'\",\n",
      "            \"version\": \"==1.6.3\"\n",
      "        },\n",
      "        \"click\": {\n",
      "            \"hashes\": [\n",
      "                \"sha256:ae74fb96c20a0277a1d615f1e4d73c8414f5a98db8b799a7931d1582f3390c28\",\n",
      "                \"sha256:ca9853ad459e787e2192211578cc907e7594e294c7ccc834310722b41b9ca6de\"\n",
      "            ],\n",
      "            \"markers\": \"python_version >= '3.7'\",\n",
      "            \"version\": \"==8.1.7\"\n",
      "        },\n",
      "        \"flask\": {\n",
      "            \"hashes\": [\n",
      "                \"sha256:21128f47e4e3b9d597a3e8521a329bf56909b690fcc3fa3e477725aa81367638\",\n",
      "                \"sha256:cfadcdb638b609361d29ec22360d6070a77d7463dcb3ab08d2c2f2f168845f58\"\n",
      "            ],\n",
      "            \"index\": \"pypi\",\n",
      "            \"markers\": \"python_version >= '3.8'\",\n",
      "            \"version\": \"==3.0.0\"\n",
      "        },\n",
      "        \"gunicorn\": {\n",
      "            \"hashes\": [\n",
      "                \"sha256:3213aa5e8c24949e792bcacfc176fef362e7aac80b76c56f6b5122bf350722f0\",\n",
      "                \"sha256:88ec8bff1d634f98e61b9f65bc4bf3cd918a90806c6f5c48bc5603849ec81033\"\n",
      "            ],\n",
      "            \"index\": \"pypi\",\n",
      "            \"markers\": \"python_version >= '3.5'\",\n",
      "            \"version\": \"==21.2.0\"\n",
      "        },\n",
      "        \"importlib-metadata\": {\n",
      "            \"hashes\": [\n",
      "                \"sha256:3ebb78df84a805d7698245025b975d9d67053cd94c79245ba4b3eb694abe68bb\",\n",
      "                \"sha256:dbace7892d8c0c4ac1ad096662232f831d4e64f4c4545bd53016a3e9d4654743\"\n",
      "            ],\n",
      "            \"markers\": \"python_version < '3.10'\",\n",
      "            \"version\": \"==6.8.0\"\n",
      "        },\n",
      "        \"itsdangerous\": {\n",
      "            \"hashes\": [\n",
      "                \"sha256:2c2349112351b88699d8d4b6b075022c0808887cb7ad10069318a8b0bc88db44\",\n",
      "                \"sha256:5dbbc68b317e5e42f327f9021763545dc3fc3bfe22e6deb96aaf1fc38874156a\"\n",
      "            ],\n",
      "            \"markers\": \"python_version >= '3.7'\",\n",
      "            \"version\": \"==2.1.2\"\n",
      "        },\n",
      "        \"jinja2\": {\n",
      "            \"hashes\": [\n",
      "                \"sha256:31351a702a408a9e7595a8fc6150fc3f43bb6bf7e319770cbc0db9df9437e852\",\n",
      "                \"sha256:6088930bfe239f0e6710546ab9c19c9ef35e29792895fed6e6e31a023a182a61\"\n",
      "            ],\n",
      "            \"markers\": \"python_version >= '3.7'\",\n",
      "            \"version\": \"==3.1.2\"\n",
      "        },\n",
      "        \"joblib\": {\n",
      "            \"hashes\": [\n",
      "                \"sha256:92f865e621e17784e7955080b6d042489e3b8e294949cc44c6eac304f59772b1\",\n",
      "                \"sha256:ef4331c65f239985f3f2220ecc87db222f08fd22097a3dd5698f693875f8cbb9\"\n",
      "            ],\n",
      "            \"markers\": \"python_version >= '3.7'\",\n",
      "            \"version\": \"==1.3.2\"\n",
      "        },\n",
      "        \"markupsafe\": {\n",
      "            \"hashes\": [\n",
      "                \"sha256:05fb21170423db021895e1ea1e1f3ab3adb85d1c2333cbc2310f2a26bc77272e\",\n",
      "                \"sha256:0a4e4a1aff6c7ac4cd55792abf96c915634c2b97e3cc1c7129578aa68ebd754e\",\n",
      "                \"sha256:10bbfe99883db80bdbaff2dcf681dfc6533a614f700da1287707e8a5d78a8431\",\n",
      "                \"sha256:134da1eca9ec0ae528110ccc9e48041e0828d79f24121a1a146161103c76e686\",\n",
      "                \"sha256:14ff806850827afd6b07a5f32bd917fb7f45b046ba40c57abdb636674a8b559c\",\n",
      "                \"sha256:1577735524cdad32f9f694208aa75e422adba74f1baee7551620e43a3141f559\",\n",
      "                \"sha256:1b40069d487e7edb2676d3fbdb2b0829ffa2cd63a2ec26c4938b2d34391b4ecc\",\n",
      "                \"sha256:1b8dd8c3fd14349433c79fa8abeb573a55fc0fdd769133baac1f5e07abf54aeb\",\n",
      "                \"sha256:1f67c7038d560d92149c060157d623c542173016c4babc0c1913cca0564b9939\",\n",
      "                \"sha256:282c2cb35b5b673bbcadb33a585408104df04f14b2d9b01d4c345a3b92861c2c\",\n",
      "                \"sha256:2c1b19b3aaacc6e57b7e25710ff571c24d6c3613a45e905b1fde04d691b98ee0\",\n",
      "                \"sha256:2ef12179d3a291be237280175b542c07a36e7f60718296278d8593d21ca937d4\",\n",
      "                \"sha256:338ae27d6b8745585f87218a3f23f1512dbf52c26c28e322dbe54bcede54ccb9\",\n",
      "                \"sha256:3c0fae6c3be832a0a0473ac912810b2877c8cb9d76ca48de1ed31e1c68386575\",\n",
      "                \"sha256:3fd4abcb888d15a94f32b75d8fd18ee162ca0c064f35b11134be77050296d6ba\",\n",
      "                \"sha256:42de32b22b6b804f42c5d98be4f7e5e977ecdd9ee9b660fda1a3edf03b11792d\",\n",
      "                \"sha256:47d4f1c5f80fc62fdd7777d0d40a2e9dda0a05883ab11374334f6c4de38adffd\",\n",
      "                \"sha256:504b320cd4b7eff6f968eddf81127112db685e81f7e36e75f9f84f0df46041c3\",\n",
      "                \"sha256:525808b8019e36eb524b8c68acdd63a37e75714eac50e988180b169d64480a00\",\n",
      "                \"sha256:56d9f2ecac662ca1611d183feb03a3fa4406469dafe241673d521dd5ae92a155\",\n",
      "                \"sha256:5bbe06f8eeafd38e5d0a4894ffec89378b6c6a625ff57e3028921f8ff59318ac\",\n",
      "                \"sha256:65c1a9bcdadc6c28eecee2c119465aebff8f7a584dd719facdd9e825ec61ab52\",\n",
      "                \"sha256:68e78619a61ecf91e76aa3e6e8e33fc4894a2bebe93410754bd28fce0a8a4f9f\",\n",
      "                \"sha256:69c0f17e9f5a7afdf2cc9fb2d1ce6aabdb3bafb7f38017c0b77862bcec2bbad8\",\n",
      "                \"sha256:6b2b56950d93e41f33b4223ead100ea0fe11f8e6ee5f641eb753ce4b77a7042b\",\n",
      "                \"sha256:715d3562f79d540f251b99ebd6d8baa547118974341db04f5ad06d5ea3eb8007\",\n",
      "                \"sha256:787003c0ddb00500e49a10f2844fac87aa6ce977b90b0feaaf9de23c22508b24\",\n",
      "                \"sha256:7ef3cb2ebbf91e330e3bb937efada0edd9003683db6b57bb108c4001f37a02ea\",\n",
      "                \"sha256:8023faf4e01efadfa183e863fefde0046de576c6f14659e8782065bcece22198\",\n",
      "                \"sha256:8758846a7e80910096950b67071243da3e5a20ed2546e6392603c096778d48e0\",\n",
      "                \"sha256:8afafd99945ead6e075b973fefa56379c5b5c53fd8937dad92c662da5d8fd5ee\",\n",
      "                \"sha256:8c41976a29d078bb235fea9b2ecd3da465df42a562910f9022f1a03107bd02be\",\n",
      "                \"sha256:8e254ae696c88d98da6555f5ace2279cf7cd5b3f52be2b5cf97feafe883b58d2\",\n",
      "                \"sha256:8f9293864fe09b8149f0cc42ce56e3f0e54de883a9de90cd427f191c346eb2e1\",\n",
      "                \"sha256:9402b03f1a1b4dc4c19845e5c749e3ab82d5078d16a2a4c2cd2df62d57bb0707\",\n",
      "                \"sha256:962f82a3086483f5e5f64dbad880d31038b698494799b097bc59c2edf392fce6\",\n",
      "                \"sha256:9aad3c1755095ce347e26488214ef77e0485a3c34a50c5a5e2471dff60b9dd9c\",\n",
      "                \"sha256:9dcdfd0eaf283af041973bff14a2e143b8bd64e069f4c383416ecd79a81aab58\",\n",
      "                \"sha256:aa57bd9cf8ae831a362185ee444e15a93ecb2e344c8e52e4d721ea3ab6ef1823\",\n",
      "                \"sha256:aa7bd130efab1c280bed0f45501b7c8795f9fdbeb02e965371bbef3523627779\",\n",
      "                \"sha256:ab4a0df41e7c16a1392727727e7998a467472d0ad65f3ad5e6e765015df08636\",\n",
      "                \"sha256:ad9e82fb8f09ade1c3e1b996a6337afac2b8b9e365f926f5a61aacc71adc5b3c\",\n",
      "                \"sha256:af598ed32d6ae86f1b747b82783958b1a4ab8f617b06fe68795c7f026abbdcad\",\n",
      "                \"sha256:b076b6226fb84157e3f7c971a47ff3a679d837cf338547532ab866c57930dbee\",\n",
      "                \"sha256:b7ff0f54cb4ff66dd38bebd335a38e2c22c41a8ee45aa608efc890ac3e3931bc\",\n",
      "                \"sha256:bfce63a9e7834b12b87c64d6b155fdd9b3b96191b6bd334bf37db7ff1fe457f2\",\n",
      "                \"sha256:c011a4149cfbcf9f03994ec2edffcb8b1dc2d2aede7ca243746df97a5d41ce48\",\n",
      "                \"sha256:c9c804664ebe8f83a211cace637506669e7890fec1b4195b505c214e50dd4eb7\",\n",
      "                \"sha256:ca379055a47383d02a5400cb0d110cef0a776fc644cda797db0c5696cfd7e18e\",\n",
      "                \"sha256:cb0932dc158471523c9637e807d9bfb93e06a95cbf010f1a38b98623b929ef2b\",\n",
      "                \"sha256:cd0f502fe016460680cd20aaa5a76d241d6f35a1c3350c474bac1273803893fa\",\n",
      "                \"sha256:ceb01949af7121f9fc39f7d27f91be8546f3fb112c608bc4029aef0bab86a2a5\",\n",
      "                \"sha256:d080e0a5eb2529460b30190fcfcc4199bd7f827663f858a226a81bc27beaa97e\",\n",
      "                \"sha256:dd15ff04ffd7e05ffcb7fe79f1b98041b8ea30ae9234aed2a9168b5797c3effb\",\n",
      "                \"sha256:df0be2b576a7abbf737b1575f048c23fb1d769f267ec4358296f31c2479db8f9\",\n",
      "                \"sha256:e09031c87a1e51556fdcb46e5bd4f59dfb743061cf93c4d6831bf894f125eb57\",\n",
      "                \"sha256:e4dd52d80b8c83fdce44e12478ad2e85c64ea965e75d66dbeafb0a3e77308fcc\",\n",
      "                \"sha256:f698de3fd0c4e6972b92290a45bd9b1536bffe8c6759c62471efaa8acb4c37bc\",\n",
      "                \"sha256:fec21693218efe39aa7f8599346e90c705afa52c5b31ae019b2e57e8f6542bb2\",\n",
      "                \"sha256:ffcc3f7c66b5f5b7931a5aa68fc9cecc51e685ef90282f4a82f0f5e9b704ad11\"\n",
      "            ],\n",
      "            \"markers\": \"python_version >= '3.7'\",\n",
      "            \"version\": \"==2.1.3\"\n",
      "        },\n",
      "        \"numpy\": {\n",
      "            \"hashes\": [\n",
      "                \"sha256:06934e1a22c54636a059215d6da99e23286424f316fddd979f5071093b648668\",\n",
      "                \"sha256:1c59c046c31a43310ad0199d6299e59f57a289e22f0f36951ced1c9eac3665b9\",\n",
      "                \"sha256:1d1bd82d539607951cac963388534da3b7ea0e18b149a53cf883d8f699178c0f\",\n",
      "                \"sha256:1e11668d6f756ca5ef534b5be8653d16c5352cbb210a5c2a79ff288e937010d5\",\n",
      "                \"sha256:3649d566e2fc067597125428db15d60eb42a4e0897fc48d28cb75dc2e0454e53\",\n",
      "                \"sha256:59227c981d43425ca5e5c01094d59eb14e8772ce6975d4b2fc1e106a833d5ae2\",\n",
      "                \"sha256:6081aed64714a18c72b168a9276095ef9155dd7888b9e74b5987808f0dd0a974\",\n",
      "                \"sha256:6965888d65d2848e8768824ca8288db0a81263c1efccec881cb35a0d805fcd2f\",\n",
      "                \"sha256:76ff661a867d9272cd2a99eed002470f46dbe0943a5ffd140f49be84f68ffc42\",\n",
      "                \"sha256:78ca54b2f9daffa5f323f34cdf21e1d9779a54073f0018a3094ab907938331a2\",\n",
      "                \"sha256:82e871307a6331b5f09efda3c22e03c095d957f04bf6bc1804f30048d0e5e7af\",\n",
      "                \"sha256:8ab9163ca8aeb7fd32fe93866490654d2f7dda4e61bc6297bf72ce07fdc02f67\",\n",
      "                \"sha256:9696aa2e35cc41e398a6d42d147cf326f8f9d81befcb399bc1ed7ffea339b64e\",\n",
      "                \"sha256:97e5d6a9f0702c2863aaabf19f0d1b6c2628fbe476438ce0b5ce06e83085064c\",\n",
      "                \"sha256:9f42284ebf91bdf32fafac29d29d4c07e5e9d1af862ea73686581773ef9e73a7\",\n",
      "                \"sha256:a03fb25610ef560a6201ff06df4f8105292ba56e7cdd196ea350d123fc32e24e\",\n",
      "                \"sha256:a5b411040beead47a228bde3b2241100454a6abde9df139ed087bd73fc0a4908\",\n",
      "                \"sha256:af22f3d8e228d84d1c0c44c1fbdeb80f97a15a0abe4f080960393a00db733b66\",\n",
      "                \"sha256:afd5ced4e5a96dac6725daeb5242a35494243f2239244fad10a90ce58b071d24\",\n",
      "                \"sha256:b9d45d1dbb9de84894cc50efece5b09939752a2d75aab3a8b0cef6f3a35ecd6b\",\n",
      "                \"sha256:bb894accfd16b867d8643fc2ba6c8617c78ba2828051e9a69511644ce86ce83e\",\n",
      "                \"sha256:c8c6c72d4a9f831f328efb1312642a1cafafaa88981d9ab76368d50d07d93cbe\",\n",
      "                \"sha256:cd7837b2b734ca72959a1caf3309457a318c934abef7a43a14bb984e574bbb9a\",\n",
      "                \"sha256:cdd9ec98f0063d93baeb01aad472a1a0840dee302842a2746a7a8e92968f9575\",\n",
      "                \"sha256:d1cfc92db6af1fd37a7bb58e55c8383b4aa1ba23d012bdbba26b4bcca45ac297\",\n",
      "                \"sha256:d1d2c6b7dd618c41e202c59c1413ef9b2c8e8a15f5039e344af64195459e3104\",\n",
      "                \"sha256:d2984cb6caaf05294b8466966627e80bf6c7afd273279077679cb010acb0e5ab\",\n",
      "                \"sha256:d58e8c51a7cf43090d124d5073bc29ab2755822181fcad978b12e144e5e5a4b3\",\n",
      "                \"sha256:d78f269e0c4fd365fc2992c00353e4530d274ba68f15e968d8bc3c69ce5f5244\",\n",
      "                \"sha256:dcfaf015b79d1f9f9c9fd0731a907407dc3e45769262d657d754c3a028586124\",\n",
      "                \"sha256:e44ccb93f30c75dfc0c3aa3ce38f33486a75ec9abadabd4e59f114994a9c4617\",\n",
      "                \"sha256:e509cbc488c735b43b5ffea175235cec24bbc57b227ef1acc691725beb230d1c\"\n",
      "            ],\n",
      "            \"markers\": \"python_version < '3.13' and python_version >= '3.9'\",\n",
      "            \"version\": \"==1.26.1\"\n",
      "        },\n",
      "        \"packaging\": {\n",
      "            \"hashes\": [\n",
      "                \"sha256:048fb0e9405036518eaaf48a55953c750c11e1a1b68e0dd1a9d62ed0c092cfc5\",\n",
      "                \"sha256:8c491190033a9af7e1d931d0b5dacc2ef47509b34dd0de67ed209b5203fc88c7\"\n",
      "            ],\n",
      "            \"markers\": \"python_version >= '3.7'\",\n",
      "            \"version\": \"==23.2\"\n",
      "        },\n",
      "        \"scikit-learn\": {\n",
      "            \"hashes\": [\n",
      "                \"sha256:0c275a06c5190c5ce00af0acbb61c06374087949f643ef32d355ece12c4db043\",\n",
      "                \"sha256:0ce9233cdf0cdcf0858a5849d306490bf6de71fa7603a3835124e386e62f2311\",\n",
      "                \"sha256:0e1aa8f206d0de814b81b41d60c1ce31f7f2c7354597af38fae46d9c47c45122\",\n",
      "                \"sha256:14e8775eba072ab10866a7e0596bc9906873e22c4c370a651223372eb62de180\",\n",
      "                \"sha256:1a231cced3ee3fa04756b4a7ab532dc9417acd581a330adff5f2c01ac2831fcf\",\n",
      "                \"sha256:1ec668ce003a5b3d12d020d2cde0abd64b262ac5f098b5c84cf9657deb9996a8\",\n",
      "                \"sha256:3153612ff8d36fa4e35ef8b897167119213698ea78f3fd130b4068e6f8d2da5a\",\n",
      "                \"sha256:4d379f2b34096105a96bd857b88601dffe7389bd55750f6f29aaa37bc6272eb5\",\n",
      "                \"sha256:52b77cc08bd555969ec5150788ed50276f5ef83abb72e6f469c5b91a0009bbca\",\n",
      "                \"sha256:58b0c2490eff8355dc26e884487bf8edaccf2ba48d09b194fb2f3a026dd64f9d\",\n",
      "                \"sha256:66f7bb1fec37d65f4ef85953e1df5d3c98a0f0141d394dcdaead5a6de9170347\",\n",
      "                \"sha256:6bb9490fdb8e7e00f1354621689187bef3cab289c9b869688f805bf724434755\",\n",
      "                \"sha256:7d8dee8c1f40eeba49a85fe378bdf70a07bb64aba1a08fda1e0f48d27edfc3e6\",\n",
      "                \"sha256:8454d57a22d856f1fbf3091bd86f9ebd4bff89088819886dc0c72f47a6c30652\",\n",
      "                \"sha256:845f81c7ceb4ea6bac64ab1c9f2ce8bef0a84d0f21f3bece2126adcc213dfecd\",\n",
      "                \"sha256:8d993fb70a1d78c9798b8f2f28705bfbfcd546b661f9e2e67aa85f81052b9c53\",\n",
      "                \"sha256:9147a3a4df4d401e618713880be023e36109c85d8569b3bf5377e6cd3fecdeac\",\n",
      "                \"sha256:a15d964d9eb181c79c190d3dbc2fff7338786bf017e9039571418a1d53dab236\",\n",
      "                \"sha256:a683394bc3f80b7c312c27f9b14ebea7766b1f0a34faf1a2e9158d80e860ec26\",\n",
      "                \"sha256:a7135a03af71138669f19bc96e7d0cc8081aed4b3565cc3b131135d65fc642ba\",\n",
      "                \"sha256:c413c2c850241998168bbb3bd1bb59ff03b1195a53864f0b80ab092071af6028\",\n",
      "                \"sha256:c6448c37741145b241eeac617028ba6ec2119e1339b1385c9720dae31367f2be\",\n",
      "                \"sha256:ccbbedae99325628c1d1cbe3916b7ef58a1ce949672d8d39c8b190e10219fd32\",\n",
      "                \"sha256:d2cd3634695ad192bf71645702b3df498bd1e246fc2d529effdb45a06ab028b4\",\n",
      "                \"sha256:ef540e09873e31569bc8b02c8a9f745ee04d8e1263255a15c9969f6f5caa627f\",\n",
      "                \"sha256:f66eddfda9d45dd6cadcd706b65669ce1df84b8549875691b1f403730bdef217\"\n",
      "            ],\n",
      "            \"index\": \"pypi\",\n",
      "            \"markers\": \"python_version >= '3.8'\",\n",
      "            \"version\": \"==1.3.1\"\n",
      "        },\n",
      "        \"scipy\": {\n",
      "            \"hashes\": [\n",
      "                \"sha256:00f325434b6424952fbb636506f0567898dca7b0f7654d48f1c382ea338ce9a3\",\n",
      "                \"sha256:033c3fd95d55012dd1148b201b72ae854d5086d25e7c316ec9850de4fe776929\",\n",
      "                \"sha256:0d3a136ae1ff0883fffbb1b05b0b2fea251cb1046a5077d0b435a1839b3e52b7\",\n",
      "                \"sha256:15f237e890c24aef6891c7d008f9ff7e758c6ef39a2b5df264650eb7900403c0\",\n",
      "                \"sha256:370f569c57e1d888304052c18e58f4a927338eafdaef78613c685ca2ea0d1fa0\",\n",
      "                \"sha256:3e1a8a4657673bfae1e05e1e1d6e94b0cabe5ed0c7c144c8aa7b7dbb774ce5c1\",\n",
      "                \"sha256:4b4bb134c7aa457e26cc6ea482b016fef45db71417d55cc6d8f43d799cdf9ef2\",\n",
      "                \"sha256:5305792c7110e32ff155aed0df46aa60a60fc6e52cd4ee02cdeb67eaccd5356e\",\n",
      "                \"sha256:5664e364f90be8219283eeb844323ff8cd79d7acbd64e15eb9c46b9bc7f6a42a\",\n",
      "                \"sha256:5f290cf561a4b4edfe8d1001ee4be6da60c1c4ea712985b58bf6bc62badee221\",\n",
      "                \"sha256:74e89dc5e00201e71dd94f5f382ab1c6a9f3ff806c7d24e4e90928bb1aafb280\",\n",
      "                \"sha256:7abda0e62ef00cde826d441485e2e32fe737bdddee3324e35c0e01dee65e2a88\",\n",
      "                \"sha256:90271dbde4be191522b3903fc97334e3956d7cfb9cce3f0718d0ab4fd7d8bfd6\",\n",
      "                \"sha256:91770cb3b1e81ae19463b3c235bf1e0e330767dca9eb4cd73ba3ded6c4151e4d\",\n",
      "                \"sha256:925c6f09d0053b1c0f90b2d92d03b261e889b20d1c9b08a3a51f61afc5f58165\",\n",
      "                \"sha256:9885e3e4f13b2bd44aaf2a1a6390a11add9f48d5295f7a592393ceb8991577a3\",\n",
      "                \"sha256:9ea7f579182d83d00fed0e5c11a4aa5ffe01460444219dedc448a36adf0c3917\",\n",
      "                \"sha256:a63d1ec9cadecce838467ce0631c17c15c7197ae61e49429434ba01d618caa83\",\n",
      "                \"sha256:bae66a2d7d5768eaa33008fa5a974389f167183c87bf39160d3fefe6664f8ddc\",\n",
      "                \"sha256:bba4d955f54edd61899776bad459bf7326e14b9fa1c552181f0479cc60a568cd\",\n",
      "                \"sha256:c77da50c9a91e23beb63c2a711ef9e9ca9a2060442757dffee34ea41847d8156\",\n",
      "                \"sha256:d2f6dee6cbb0e263b8142ed587bc93e3ed5e777f1f75448d24fb923d9fd4dce6\",\n",
      "                \"sha256:dfcc1552add7cb7c13fb70efcb2389d0624d571aaf2c80b04117e2755a0c5d15\",\n",
      "                \"sha256:e04aa19acc324a1a076abb4035dabe9b64badb19f76ad9c798bde39d41025cdc\",\n",
      "                \"sha256:e1f97cd89c0fe1a0685f8f89d85fa305deb3067d0668151571ba50913e445820\"\n",
      "            ],\n",
      "            \"markers\": \"python_version < '3.13' and python_version >= '3.9'\",\n",
      "            \"version\": \"==1.11.3\"\n",
      "        },\n",
      "        \"threadpoolctl\": {\n",
      "            \"hashes\": [\n",
      "                \"sha256:2b7818516e423bdaebb97c723f86a7c6b0a83d3f3b0970328d66f4d9104dc032\",\n",
      "                \"sha256:c96a0ba3bdddeaca37dc4cc7344aafad41cdb8c313f74fdfe387a867bba93355\"\n",
      "            ],\n",
      "            \"markers\": \"python_version >= '3.8'\",\n",
      "            \"version\": \"==3.2.0\"\n",
      "        },\n",
      "        \"werkzeug\": {\n",
      "            \"hashes\": [\n",
      "                \"sha256:3ffff4dcc32db52ef3cc94dff3000a3c2846890f3a5a51800a27b909c5e770f0\",\n",
      "                \"sha256:cbb2600f7eabe51dbc0502f58be0b3e1b96b893b05695ea2b35b43d4de2d9962\"\n",
      "            ],\n",
      "            \"markers\": \"python_version >= '3.8'\",\n",
      "            \"version\": \"==3.0.0\"\n",
      "        },\n",
      "        \"zipp\": {\n",
      "            \"hashes\": [\n",
      "                \"sha256:0e923e726174922dce09c53c59ad483ff7bbb8e572e00c7f7c46b88556409f31\",\n",
      "                \"sha256:84e64a1c28cf7e91ed2078bb8cc8c259cb19b76942096c8d7b84947690cabaf0\"\n",
      "            ],\n",
      "            \"markers\": \"python_version >= '3.8'\",\n",
      "            \"version\": \"==3.17.0\"\n",
      "        }\n",
      "    },\n",
      "    \"develop\": {}\n",
      "}\n"
     ]
    }
   ],
   "source": [
    "# Let's show Pipfile.lock\n",
    "!cat Pipfile.lock"
   ]
  },
  {
   "cell_type": "code",
   "execution_count": 4,
   "id": "8fd4acc1-b689-4e35-8aef-9c981107fdf4",
   "metadata": {
    "tags": []
   },
   "outputs": [],
   "source": [
    "import json"
   ]
  },
  {
   "cell_type": "code",
   "execution_count": 5,
   "id": "8e950f0b-3c87-4f7a-a3f9-b25b2094407c",
   "metadata": {
    "tags": []
   },
   "outputs": [
    {
     "name": "stdout",
     "output_type": "stream",
     "text": [
      "sha256:0c275a06c5190c5ce00af0acbb61c06374087949f643ef32d355ece12c4db043\n"
     ]
    }
   ],
   "source": [
    "#  Let's show the first hash for scikit-learn you get in Pipfile.lock\n",
    "with open('Pipfile.lock','r') as f:\n",
    "    data = json.load(f)\n",
    "    print(data['default']['scikit-learn']['hashes'][0])"
   ]
  },
  {
   "cell_type": "markdown",
   "id": "3c818b23-0bc3-4dfe-beec-434b7779b30c",
   "metadata": {},
   "source": [
    "## Models\n",
    "\n",
    "We've prepared a dictionary vectorizer and a model.\n",
    "\n",
    "They were trained (roughly) using this code:\n",
    "<code>\n",
    "features = ['job','duration', 'poutcome']\n",
    "dicts = df[features].to_dict(orient='records')\n",
    "dv = DictVectorizer(sparse=False)\n",
    "X = dv.fit_transform(dicts)\n",
    "model = LogisticRegression().fit(X, y)\n",
    "</code>\n",
    "\n",
    "And then saved with Pickle. Download them:\n",
    "<code>\n",
    "PREFIX=https://raw.githubusercontent.com/DataTalksClub/machine-learning-zoomcamp/master/cohorts/2023/05-deployment/homework\n",
    "wget $PREFIX/model1.bin\n",
    "wget $PREFIX/dv.bin\n",
    "</code>"
   ]
  },
  {
   "cell_type": "markdown",
   "id": "0d284980-e501-46a9-b03d-f283d8f80f84",
   "metadata": {},
   "source": [
    "## Question 3\n",
    "\n",
    "Let's use these models!\n",
    "- Write a script for loading these models with pickle\n",
    "- Score this client:\n",
    "<code>\n",
    "{\"job\": \"retired\", \"duration\": 445, \"poutcome\": \"success\"}\n",
    "</code>\n",
    "What's the probability that this client will get a credit?\n",
    "- 0.162\n",
    "- 0.392\n",
    "- 0.652\n",
    "- 0.902"
   ]
  },
  {
   "cell_type": "code",
   "execution_count": 6,
   "id": "17f8f172-9128-48e6-917e-707e5d78d62f",
   "metadata": {
    "tags": []
   },
   "outputs": [],
   "source": [
    "# Import pickle module\n",
    "import pickle"
   ]
  },
  {
   "cell_type": "code",
   "execution_count": 7,
   "id": "1004bd95-1f93-4cea-87c9-e481ba39be13",
   "metadata": {
    "tags": []
   },
   "outputs": [
    {
     "name": "stderr",
     "output_type": "stream",
     "text": [
      "/home/antoniopeduto/anaconda3/lib/python3.9/site-packages/sklearn/base.py:329: UserWarning: Trying to unpickle estimator DictVectorizer from version 1.3.1 when using version 1.0.2. This might lead to breaking code or invalid results. Use at your own risk. For more info please refer to:\n",
      "https://scikit-learn.org/stable/modules/model_persistence.html#security-maintainability-limitations\n",
      "  warnings.warn(\n",
      "/home/antoniopeduto/anaconda3/lib/python3.9/site-packages/sklearn/base.py:329: UserWarning: Trying to unpickle estimator LogisticRegression from version 1.3.1 when using version 1.0.2. This might lead to breaking code or invalid results. Use at your own risk. For more info please refer to:\n",
      "https://scikit-learn.org/stable/modules/model_persistence.html#security-maintainability-limitations\n",
      "  warnings.warn(\n"
     ]
    }
   ],
   "source": [
    "# Loading model and dict vector\n",
    "file_dv = 'dv.bin'\n",
    "with open(file_dv,'rb') as f:\n",
    "    dv = pickle.load(f)\n",
    "\n",
    "file_model = 'model1.bin'\n",
    "with open(file_model,'rb') as f:\n",
    "    model = pickle.load(f)"
   ]
  },
  {
   "cell_type": "code",
   "execution_count": 8,
   "id": "d1030370-493e-4147-942b-1be086965b67",
   "metadata": {
    "tags": []
   },
   "outputs": [
    {
     "name": "stdout",
     "output_type": "stream",
     "text": [
      "8ebfdf20010cfc7f545c43e3b52fc8a1  model1.bin\n",
      "924b496a89148b422c74a62dbc92a4fb  dv.bin\n"
     ]
    }
   ],
   "source": [
    "!md5sum model1.bin dv.bin"
   ]
  },
  {
   "cell_type": "code",
   "execution_count": 9,
   "id": "e6829c7f-1b9a-4a0a-a58b-4d9d652b46f4",
   "metadata": {
    "tags": []
   },
   "outputs": [
    {
     "data": {
      "text/plain": [
       "array(['no', 'yes'], dtype=object)"
      ]
     },
     "execution_count": 9,
     "metadata": {},
     "output_type": "execute_result"
    }
   ],
   "source": [
    "model.classes_"
   ]
  },
  {
   "cell_type": "code",
   "execution_count": 10,
   "id": "d1e50a59-d746-49fa-82ee-a4ae0392b9ad",
   "metadata": {
    "tags": []
   },
   "outputs": [
    {
     "data": {
      "text/plain": [
       "(1, 17)"
      ]
     },
     "execution_count": 10,
     "metadata": {},
     "output_type": "execute_result"
    }
   ],
   "source": [
    "x_sample_dict = {\"job\": \"retired\", \"duration\": 445, \"poutcome\": \"success\"}\n",
    "x_sample = dv.transform(x_sample_dict)\n",
    "x_sample.shape"
   ]
  },
  {
   "cell_type": "code",
   "execution_count": 11,
   "id": "68284896-2a30-4db8-8c3d-629ffd67dead",
   "metadata": {
    "tags": []
   },
   "outputs": [
    {
     "data": {
      "text/plain": [
       "0.9019309332297606"
      ]
     },
     "execution_count": 11,
     "metadata": {},
     "output_type": "execute_result"
    }
   ],
   "source": [
    "y_sample_pred = model.predict_proba(x_sample)[0,1]\n",
    "y_sample_pred"
   ]
  },
  {
   "cell_type": "markdown",
   "id": "d192a939-cc17-4c58-a29b-2d4857597e08",
   "metadata": {},
   "source": [
    "## Question 4\n",
    "\n",
    "Now let's serve this model as a web service\n",
    "- Install Flask and gunicorn (or waitress, if you're on Windows)\n",
    "- Write Flask code for serving the model\n",
    "- Now score this client using requests:\n",
    "<code>\n",
    "url = \"YOUR_URL\"\n",
    "client = {\"job\": \"unknown\", \"duration\": 270, \"poutcome\": \"failure\"}\n",
    "requests.post(url, json=client).json()\n",
    "</code>\n",
    "What's the probability that this client will get a credit?\n",
    "- 0.140\n",
    "- 0.440\n",
    "- 0.645\n",
    "- 0.845"
   ]
  },
  {
   "cell_type": "code",
   "execution_count": 12,
   "id": "f1629178-233f-4858-b02a-67c5a95e7aeb",
   "metadata": {
    "tags": []
   },
   "outputs": [
    {
     "name": "stdout",
     "output_type": "stream",
     "text": [
      "\u001b[1;32mInstalling flask\u001b[0m\u001b[1;33m...\u001b[0m\n",
      "\u001b[?25lResolving flask\u001b[33m...\u001b[0m\n",
      "\u001b[2K✔ Installation Succeeded\n",
      "\u001b[2K\u001b[32m⠋\u001b[0m Installing flask...\n",
      "\u001b[1A\u001b[2K\u001b[1mInstalling dependencies from Pipfile.lock \u001b[0m\u001b[1m(\u001b[0m\u001b[1mcafb82\u001b[0m\u001b[1m)\u001b[0m\u001b[1;33m...\u001b[0m\n"
     ]
    }
   ],
   "source": [
    "# Install flask\n",
    "!pipenv install flask "
   ]
  },
  {
   "cell_type": "code",
   "execution_count": 13,
   "id": "bd26bec0-6081-43f6-a908-dc5e2b94507a",
   "metadata": {
    "tags": []
   },
   "outputs": [
    {
     "name": "stdout",
     "output_type": "stream",
     "text": [
      "\u001b[1;32mInstalling gunicorn\u001b[0m\u001b[1;33m...\u001b[0m\n",
      "\u001b[?25lResolving gunicorn\u001b[33m...\u001b[0m\n",
      "\u001b[2K✔ Installation Succeeded\n",
      "\u001b[2K\u001b[32m⠋\u001b[0m Installing gunicorn...\n",
      "\u001b[1A\u001b[2K\u001b[1mInstalling dependencies from Pipfile.lock \u001b[0m\u001b[1m(\u001b[0m\u001b[1mcafb82\u001b[0m\u001b[1m)\u001b[0m\u001b[1;33m...\u001b[0m\n"
     ]
    }
   ],
   "source": [
    "# Install gunicorn\n",
    "!pipenv install gunicorn"
   ]
  },
  {
   "cell_type": "markdown",
   "id": "057cdb58-b260-4ad9-9b7e-ea318e935601",
   "metadata": {},
   "source": [
    "Let's open terminal and run the command\n",
    "<code>\n",
    "    gunicorn --bind 0.0.0.0:9696 predict:app\n",
    "</code>"
   ]
  },
  {
   "cell_type": "code",
   "execution_count": 14,
   "id": "14953b3a-6f2d-42d8-a0e6-354448cc2617",
   "metadata": {},
   "outputs": [],
   "source": [
    "import requests"
   ]
  },
  {
   "cell_type": "code",
   "execution_count": 15,
   "id": "0cff84fc-e5f7-4d2f-a142-3d4fc3386468",
   "metadata": {},
   "outputs": [
    {
     "data": {
      "text/plain": [
       "{'prob_get_credit': 0.13968947052356817}"
      ]
     },
     "execution_count": 15,
     "metadata": {},
     "output_type": "execute_result"
    }
   ],
   "source": [
    "url = \"http://localhost:9696/predict\"\n",
    "client = {\"job\": \"unknown\", \"duration\": 270, \"poutcome\": \"failure\"}\n",
    "response = requests.post(url=url, json=client).json()\n",
    "response"
   ]
  },
  {
   "cell_type": "markdown",
   "id": "a3c6e485-0ff8-4b61-8a56-1ad9a36b3830",
   "metadata": {},
   "source": [
    "## Docker\n",
    "\n",
    "Install Docker. We will use it for the next two questions.\n",
    "\n",
    "For these questions, we prepared a base image: svizor/zoomcamp-model:3.10.12-slim. You'll need to use it (see Question 5 for an example).\n",
    "\n",
    "This image is based on python:3.10.12-slim and has a logistic regression model (a different one) as well a dictionary vectorizer inside.\n",
    "\n",
    "This is how the Dockerfile for this image looks like:\n",
    "\n",
    "<code>\n",
    "FROM python:3.10.12-slim\n",
    "WORKDIR /app\n",
    "COPY [\"model2.bin\", \"dv.bin\", \"./\"]\n",
    "</code>\n",
    "\n",
    "We already built it and then pushed it to svizor/zoomcamp-model:3.10.12-slim."
   ]
  },
  {
   "cell_type": "markdown",
   "id": "8d5e5b15-5414-4c2c-95b6-42b5ea18ba6e",
   "metadata": {},
   "source": [
    "## Question 5\n",
    "\n",
    "Download the base image svizor/zoomcamp-model:3.10.12-slim. You can easily make it by using docker pull command.\n",
    "\n",
    "So what's the size of this base image?\n",
    "- 47 MB\n",
    "- 147 MB\n",
    "- 374 MB\n",
    "- 574 MB\n",
    "\n",
    "You can get this information when running docker images - it'll be in the \"SIZE\" column."
   ]
  },
  {
   "cell_type": "markdown",
   "id": "f2caea33-7952-479f-8eab-585390aa81f0",
   "metadata": {},
   "source": [
    "Let's download image by executing in terminal the command:\n",
    "<code>\n",
    "    docker pull svizor/zoomcamp-model:3.10.12-slim\n",
    "</code>\n",
    "and then show the size:\n",
    "<code>\n",
    "    docker images | grep svizor\n",
    "</code>\n",
    "The size is 147 MB."
   ]
  },
  {
   "cell_type": "markdown",
   "id": "754f5504-8e58-41f4-a1ca-5d59544cc211",
   "metadata": {},
   "source": [
    "## Dockerfile\n",
    "\n",
    "Now create your own Dockerfile based on the image we prepared.\n",
    "\n",
    "It should start like that:\n",
    "\n",
    "FROM svizor/zoomcamp-model:3.10.12-slim\n",
    "\n",
    "--add your stuff here\n",
    "\n",
    "Now complete it:\n",
    "\n",
    "- Install all the dependencies from the Pipenv file\n",
    "- Copy your Flask script\n",
    "- Run it with Gunicorn\n",
    "\n",
    "After that, you can build your docker image."
   ]
  },
  {
   "cell_type": "markdown",
   "id": "79f6b2c0-d720-42a7-a660-8ba4bf4a0a16",
   "metadata": {},
   "source": [
    "# Question 6\n",
    "\n",
    "Let's run your docker container!\n",
    "\n",
    "After running it, score this client once again:\n",
    "\n",
    "<code>\n",
    "url = \"YOUR_URL\"\n",
    "client = {\"job\": \"retired\", \"duration\": 445, \"poutcome\": \"success\"}\n",
    "requests.post(url, json=client).json()\n",
    "</code>\n",
    " \n",
    " \n",
    "What's the probability that this client will get a credit now?\n",
    "- 0.168\n",
    "- 0.530\n",
    "- 0.730\n",
    "- 0.968"
   ]
  },
  {
   "cell_type": "markdown",
   "id": "9ce0ff5a-f43a-41dc-8335-e85c64a19746",
   "metadata": {},
   "source": [
    "Let's write the following Dockerfile:\n",
    "<code>\n",
    "FROM svizor/zoomcamp-model:3.10.12-slim\n",
    "RUN pip install pipenv\n",
    "WORKDIR /app\n",
    "COPY [\"Pipfile\",\"Pipfile.lock\",\"./\"]\n",
    "RUN pipenv install --system --deploy\n",
    "COPY [\"predict.py\",\"model1.bin\",\"./\"]\n",
    "EXPOSE 9696\n",
    "ENTRYPOINT [\"gunicorn\", \"--bind=0.0.0.0:9696\",\"predict:app\"]\n",
    "</code>\n",
    "\n",
    "Then let's build the image by the following command:\n",
    "<code>\n",
    "    sudo docker build -t zoomcampapp ./\n",
    "</code>\n",
    "\n",
    "And let's runt it\n",
    "<code>\n",
    "    sudo docker run -it --rm -p 9696:9696 zoomcampapp\n",
    "</code>\n",
    "Finally let's test such app"
   ]
  },
  {
   "cell_type": "code",
   "execution_count": 18,
   "id": "4cbdaca7-6a25-4db0-a55f-9d529cd910b4",
   "metadata": {},
   "outputs": [
    {
     "data": {
      "text/plain": [
       "{'prob_get_credit': 0.9019309332297606}"
      ]
     },
     "execution_count": 18,
     "metadata": {},
     "output_type": "execute_result"
    }
   ],
   "source": [
    "url = \"http://localhost:9696/predict\"\n",
    "client={\"job\": \"retired\", \"duration\": 445, \"poutcome\": \"success\"}\n",
    "response = requests.post(url=url, json=client).json()\n",
    "response"
   ]
  },
  {
   "cell_type": "code",
   "execution_count": null,
   "id": "f6a8b35e-6031-444a-86e3-cc2dab44f0f6",
   "metadata": {},
   "outputs": [],
   "source": []
  }
 ],
 "metadata": {
  "kernelspec": {
   "display_name": "Python 3 (ipykernel)",
   "language": "python",
   "name": "python3"
  },
  "language_info": {
   "codemirror_mode": {
    "name": "ipython",
    "version": 3
   },
   "file_extension": ".py",
   "mimetype": "text/x-python",
   "name": "python",
   "nbconvert_exporter": "python",
   "pygments_lexer": "ipython3",
   "version": "3.9.13"
  }
 },
 "nbformat": 4,
 "nbformat_minor": 5
}
