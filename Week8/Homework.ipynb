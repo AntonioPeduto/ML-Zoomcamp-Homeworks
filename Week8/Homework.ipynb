{
 "cells": [
  {
   "cell_type": "markdown",
   "id": "55ddc15a-623a-4f1c-83ee-f2e48c7c3fb7",
   "metadata": {},
   "source": [
    "# Homework"
   ]
  },
  {
   "cell_type": "markdown",
   "id": "2af6975e-3605-4abd-8a2e-755950a5f270",
   "metadata": {},
   "source": [
    "Dataset\n",
    "\n",
    "In this homework, we'll build a model for predicting if we have an image of a bee or a wasp. For this, we will use the \"Bee or Wasp?\" dataset that was obtained from Kaggle and slightly rebuilt.\n",
    "\n",
    "You can download the dataset for this homework from here:"
   ]
  },
  {
   "cell_type": "code",
   "execution_count": 1,
   "id": "1628cc29-5bae-4fb6-a693-e82f8d028ca5",
   "metadata": {
    "tags": []
   },
   "outputs": [
    {
     "name": "stdout",
     "output_type": "stream",
     "text": [
      "--2023-11-12 16:44:28--  https://github.com/SVizor42/ML_Zoomcamp/releases/download/bee-wasp-data/data.zip\n",
      "Resolving github.com (github.com)... failed: Temporary failure in name resolution.\n",
      "wget: unable to resolve host address ‘github.com’\n",
      "[data.zip]\n",
      "  End-of-central-directory signature not found.  Either this file is not\n",
      "  a zipfile, or it constitutes one disk of a multi-part archive.  In the\n",
      "  latter case the central directory and zipfile comment will be found on\n",
      "  the last disk(s) of this archive.\n",
      "unzip:  cannot find zipfile directory in one of data.zip or\n",
      "        data.zip.zip, and cannot find data.zip.ZIP, period.\n"
     ]
    }
   ],
   "source": [
    "! wget -O data.zip https://github.com/SVizor42/ML_Zoomcamp/releases/download/bee-wasp-data/data.zip\n",
    "! unzip -qq data.zip -d data"
   ]
  },
  {
   "cell_type": "markdown",
   "id": "cce4d1fc-39d6-477d-b6e6-c3bbb830e9ef",
   "metadata": {},
   "source": [
    "## Data Preparation\n",
    "\n",
    "The dataset contains around 2500 images of bees and around 2100 images of wasps.\n",
    "\n",
    "The dataset contains separate folders for training and test sets.\n",
    "\n",
    "## Model\n",
    "\n",
    "For this homework we will use Convolutional Neural Network (CNN). Like in the lectures, we'll use Keras.\n",
    "\n",
    "You need to develop the model with following structure:\n",
    "\n",
    "- The shape for input should be (150, 150, 3)\n",
    "- Next, create a convolutional layer (Conv2D):\n",
    "    - Use 32 filters\n",
    "    - Kernel size should be (3, 3) (that's the size of the filter)\n",
    "    - Use 'relu' as activation\n",
    "- Reduce the size of the feature map with max pooling (MaxPooling2D)\n",
    "    - Set the pooling size to (2, 2)\n",
    "- Turn the multi-dimensional result into vectors using a Flatten layer\n",
    "- Next, add a Dense layer with 64 neurons and 'relu' activation\n",
    "- Finally, create the Dense layer with 1 neuron - this will be the output\n",
    "    - The output layer should have an activation - use the appropriate activation for the binary classification case\n",
    "\n",
    "As optimizer use SGD with the following parameters:\n",
    "\n",
    "- SGD(lr=0.002, momentum=0.8)"
   ]
  },
  {
   "cell_type": "markdown",
   "id": "0249afc8-d831-40b8-b00a-56bc7c9c671d",
   "metadata": {},
   "source": [
    "## Question 1\n",
    "\n",
    "Since we have a binary classification problem, what is the best loss function for us?\n",
    "\n",
    "- mean squared error\n",
    "- binary crossentropy\n",
    "- categorical crossentropy\n",
    "- cosine similarity"
   ]
  },
  {
   "cell_type": "code",
   "execution_count": 2,
   "id": "f49dc13d-65a0-4dbd-be2e-f1a472c46de5",
   "metadata": {
    "tags": []
   },
   "outputs": [],
   "source": [
    "# Install TensorFlow\n",
    "#!conda install -c conda-forge tensorflow -y"
   ]
  },
  {
   "cell_type": "code",
   "execution_count": 3,
   "id": "1551bf5b-4d0e-4ea3-994c-082c6c8a49de",
   "metadata": {
    "tags": []
   },
   "outputs": [
    {
     "name": "stderr",
     "output_type": "stream",
     "text": [
      "2023-11-12 16:44:29.079019: I tensorflow/core/platform/cpu_feature_guard.cc:182] This TensorFlow binary is optimized to use available CPU instructions in performance-critical operations.\n",
      "To enable the following instructions: SSE4.1 SSE4.2 AVX, in other operations, rebuild TensorFlow with the appropriate compiler flags.\n"
     ]
    }
   ],
   "source": [
    "import tensorflow as tf\n",
    "from tensorflow import keras\n",
    "import numpy as np"
   ]
  },
  {
   "cell_type": "code",
   "execution_count": 20,
   "id": "8bf385de-3f63-4f6b-97ed-476ad43e06c5",
   "metadata": {
    "tags": []
   },
   "outputs": [],
   "source": [
    "# Building of Model\n",
    "inputs = keras.Input(shape=(150,150,3))\n",
    "x = keras.layers.Conv2D(filters=32, kernel_size=(3,3), activation='relu')(inputs)\n",
    "x = keras.layers.MaxPool2D(pool_size=(2,2))(x)\n",
    "x = keras.layers.Flatten()(x)\n",
    "x = keras.layers.Dense(units=64, activation='relu')(x)\n",
    "outputs = keras.layers.Dense(units=1, activation='sigmoid')(x)\n",
    "model = keras.Model(inputs, outputs)"
   ]
  },
  {
   "cell_type": "code",
   "execution_count": 21,
   "id": "a3ded93d-5d37-4b16-a614-47a0c0fa628c",
   "metadata": {
    "tags": []
   },
   "outputs": [],
   "source": [
    "model.compile(\n",
    "    loss=keras.losses.binary_crossentropy,\n",
    "    optimizer=keras.optimizers.SGD(learning_rate=.002, momentum=.8), \n",
    "    metrics=[keras.metrics.BinaryAccuracy()]\n",
    ")"
   ]
  },
  {
   "cell_type": "markdown",
   "id": "8f3cfb3f-f9bb-4f27-a234-d759cb8353fc",
   "metadata": {},
   "source": [
    "## Question 2\n",
    "\n",
    "What's the number of parameters in the convolutional layer of our model? You can use the summary method for that.\n",
    "- 1\n",
    "- 65\n",
    "- 896\n",
    "- 11214912"
   ]
  },
  {
   "cell_type": "code",
   "execution_count": 22,
   "id": "16961f86-5871-4bf6-a333-d2c7433a1a5b",
   "metadata": {
    "tags": []
   },
   "outputs": [
    {
     "name": "stdout",
     "output_type": "stream",
     "text": [
      "Model: \"model_2\"\n",
      "_________________________________________________________________\n",
      " Layer (type)                Output Shape              Param #   \n",
      "=================================================================\n",
      " input_3 (InputLayer)        [(None, 150, 150, 3)]     0         \n",
      "                                                                 \n",
      " conv2d_2 (Conv2D)           (None, 148, 148, 32)      896       \n",
      "                                                                 \n",
      " max_pooling2d_2 (MaxPooling  (None, 74, 74, 32)       0         \n",
      " 2D)                                                             \n",
      "                                                                 \n",
      " flatten_2 (Flatten)         (None, 175232)            0         \n",
      "                                                                 \n",
      " dense_4 (Dense)             (None, 64)                11214912  \n",
      "                                                                 \n",
      " dense_5 (Dense)             (None, 1)                 65        \n",
      "                                                                 \n",
      "=================================================================\n",
      "Total params: 11,215,873\n",
      "Trainable params: 11,215,873\n",
      "Non-trainable params: 0\n",
      "_________________________________________________________________\n"
     ]
    }
   ],
   "source": [
    "model.summary()"
   ]
  },
  {
   "cell_type": "markdown",
   "id": "7a65d313-e16a-4796-97c5-d0f81c38adf4",
   "metadata": {},
   "source": [
    "## Generators and Training\n",
    "\n",
    "For the next two questions, use the following data generator for both train and test sets:\n",
    "<code>\n",
    "ImageDataGenerator(rescale=1./255)\n",
    "</code>\n",
    "- We don't need to do any additional pre-processing for the images.\n",
    "- When reading the data from train/test directories, check the class_mode parameter. Which value should it be for a binary classification problem?\n",
    "- Use batch_size=20\n",
    "- Use shuffle=True for both training and test sets.\n",
    "\n",
    "For training use .fit() with the following params:\n",
    "<code>\n",
    "model.fit(\n",
    "    train_generator,\n",
    "    epochs=10,\n",
    "    validation_data=test_generator\n",
    ")\n",
    "</code>"
   ]
  },
  {
   "cell_type": "code",
   "execution_count": 23,
   "id": "2413ad05-0eb4-4df7-ae9c-14715dac073e",
   "metadata": {
    "tags": []
   },
   "outputs": [],
   "source": [
    "train_datagen = keras.preprocessing.image.ImageDataGenerator(rescale=1./255)\n",
    "test_datagen = keras.preprocessing.image.ImageDataGenerator(rescale=1./255)"
   ]
  },
  {
   "cell_type": "code",
   "execution_count": 24,
   "id": "632b9023-bff8-41a4-8ac8-d02a20bf5172",
   "metadata": {
    "tags": []
   },
   "outputs": [
    {
     "name": "stdout",
     "output_type": "stream",
     "text": [
      "Found 3677 images belonging to 2 classes.\n",
      "Found 918 images belonging to 2 classes.\n"
     ]
    }
   ],
   "source": [
    "train_generator = train_datagen.flow_from_directory(directory='data/data/train',target_size=(150,150),class_mode='binary', batch_size=20)\n",
    "test_generator = test_datagen.flow_from_directory(directory='data/data/test',target_size=(150,150),class_mode='binary', batch_size=20)"
   ]
  },
  {
   "cell_type": "code",
   "execution_count": 25,
   "id": "b05fe867-7976-4936-a45a-6a90ef9455fe",
   "metadata": {
    "tags": []
   },
   "outputs": [
    {
     "name": "stdout",
     "output_type": "stream",
     "text": [
      "Epoch 1/10\n"
     ]
    },
    {
     "name": "stderr",
     "output_type": "stream",
     "text": [
      "2023-11-12 22:52:36.413304: I tensorflow/core/common_runtime/executor.cc:1197] [/device:CPU:0] (DEBUG INFO) Executor start aborting (this does not indicate an error and you can ignore this message): INVALID_ARGUMENT: You must feed a value for placeholder tensor 'Placeholder/_0' with dtype int32\n",
      "\t [[{{node Placeholder/_0}}]]\n"
     ]
    },
    {
     "name": "stdout",
     "output_type": "stream",
     "text": [
      "184/184 [==============================] - ETA: 0s - loss: 0.6742 - binary_accuracy: 0.5706"
     ]
    },
    {
     "name": "stderr",
     "output_type": "stream",
     "text": [
      "2023-11-12 22:57:43.030154: I tensorflow/core/common_runtime/executor.cc:1197] [/device:CPU:0] (DEBUG INFO) Executor start aborting (this does not indicate an error and you can ignore this message): INVALID_ARGUMENT: You must feed a value for placeholder tensor 'Placeholder/_0' with dtype int32\n",
      "\t [[{{node Placeholder/_0}}]]\n"
     ]
    },
    {
     "name": "stdout",
     "output_type": "stream",
     "text": [
      "184/184 [==============================] - 328s 2s/step - loss: 0.6742 - binary_accuracy: 0.5706 - val_loss: 0.6297 - val_binary_accuracy: 0.6198\n",
      "Epoch 2/10\n",
      "184/184 [==============================] - 362s 2s/step - loss: 0.6367 - binary_accuracy: 0.6288 - val_loss: 0.5993 - val_binary_accuracy: 0.6906\n",
      "Epoch 3/10\n",
      "184/184 [==============================] - 314s 2s/step - loss: 0.5953 - binary_accuracy: 0.6927 - val_loss: 0.5639 - val_binary_accuracy: 0.7179\n",
      "Epoch 4/10\n",
      "184/184 [==============================] - 369s 2s/step - loss: 0.5502 - binary_accuracy: 0.7324 - val_loss: 0.5433 - val_binary_accuracy: 0.7418\n",
      "Epoch 5/10\n",
      "184/184 [==============================] - 324s 2s/step - loss: 0.5149 - binary_accuracy: 0.7561 - val_loss: 0.5346 - val_binary_accuracy: 0.7473\n",
      "Epoch 6/10\n",
      "184/184 [==============================] - 319s 2s/step - loss: 0.4995 - binary_accuracy: 0.7686 - val_loss: 0.5387 - val_binary_accuracy: 0.7386\n",
      "Epoch 7/10\n",
      "184/184 [==============================] - 207s 1s/step - loss: 0.4742 - binary_accuracy: 0.7835 - val_loss: 0.5512 - val_binary_accuracy: 0.7320\n",
      "Epoch 8/10\n",
      "184/184 [==============================] - 209s 1s/step - loss: 0.4487 - binary_accuracy: 0.8023 - val_loss: 0.5026 - val_binary_accuracy: 0.7603\n",
      "Epoch 9/10\n",
      "184/184 [==============================] - 209s 1s/step - loss: 0.4213 - binary_accuracy: 0.8191 - val_loss: 0.5082 - val_binary_accuracy: 0.7418\n",
      "Epoch 10/10\n",
      "184/184 [==============================] - 155s 847ms/step - loss: 0.3832 - binary_accuracy: 0.8368 - val_loss: 0.5058 - val_binary_accuracy: 0.7549\n"
     ]
    }
   ],
   "source": [
    "history = model.fit(train_generator, epochs=10, validation_data=test_generator)"
   ]
  },
  {
   "cell_type": "code",
   "execution_count": 26,
   "id": "aaff7c3d-493b-4c1a-b316-87702fa3eb63",
   "metadata": {},
   "outputs": [
    {
     "data": {
      "text/plain": [
       "dict_keys(['loss', 'binary_accuracy', 'val_loss', 'val_binary_accuracy'])"
      ]
     },
     "execution_count": 26,
     "metadata": {},
     "output_type": "execute_result"
    }
   ],
   "source": [
    "history.history.keys()"
   ]
  },
  {
   "cell_type": "markdown",
   "id": "112fdc21-fa4a-408d-9675-d612221ed7ae",
   "metadata": {},
   "source": [
    "## Question 3\n",
    "\n",
    "What is the median of training accuracy for all the epochs for this model?\n",
    "- 0.20\n",
    "- 0.40\n",
    "- 0.60\n",
    "- 0.80"
   ]
  },
  {
   "cell_type": "code",
   "execution_count": 27,
   "id": "a2b207b5-3179-45bb-8122-4ff6e017b059",
   "metadata": {
    "tags": []
   },
   "outputs": [
    {
     "data": {
      "text/plain": [
       "0.76"
      ]
     },
     "execution_count": 27,
     "metadata": {},
     "output_type": "execute_result"
    }
   ],
   "source": [
    "train_accuracy_history = history.history['binary_accuracy']\n",
    "np.median(train_accuracy_history).round(2)"
   ]
  },
  {
   "cell_type": "markdown",
   "id": "dec912cf-d10c-46e2-95db-652a26f70d22",
   "metadata": {},
   "source": [
    "## Question 4\n",
    "\n",
    "What is the standard deviation of training loss for all the epochs for this model?\n",
    "- 0.031\n",
    "- 0.061\n",
    "- 0.091\n",
    "- 0.131"
   ]
  },
  {
   "cell_type": "code",
   "execution_count": 39,
   "id": "31c4fed0-3ba5-4c80-856f-0709c7d4ea91",
   "metadata": {
    "tags": []
   },
   "outputs": [
    {
     "data": {
      "text/plain": [
       "0.08"
      ]
     },
     "execution_count": 39,
     "metadata": {},
     "output_type": "execute_result"
    }
   ],
   "source": [
    "training_loss_history = history.history['loss']\n",
    "((training_loss_history-np.mean(training_loss_history))**2).sum().round(4)"
   ]
  },
  {
   "cell_type": "markdown",
   "id": "05dd5adb-4500-4c9a-91dc-8fd52d956717",
   "metadata": {},
   "source": [
    "## Data Augmentation\n",
    "\n",
    "For the next two questions, we'll generate more data using data augmentations.\n",
    "\n",
    "Add the following augmentations to your training data generator:\n",
    "- rotation_range=50,\n",
    "- width_shift_range=0.1,\n",
    "- height_shift_range=0.1,\n",
    "- zoom_range=0.1,\n",
    "- horizontal_flip=True,\n",
    "- fill_mode='nearest'"
   ]
  },
  {
   "cell_type": "code",
   "execution_count": 29,
   "id": "43d6d413-5569-4990-a32b-da4cb9419220",
   "metadata": {
    "tags": []
   },
   "outputs": [
    {
     "name": "stdout",
     "output_type": "stream",
     "text": [
      "Found 3677 images belonging to 2 classes.\n"
     ]
    }
   ],
   "source": [
    "train_datagen = keras.preprocessing.image.ImageDataGenerator(rescale=1./255, \n",
    "                                                             rotation_range=50, \n",
    "                                                             width_shift_range=0.1, \n",
    "                                                             height_shift_range=0.1, \n",
    "                                                             zoom_range=0.1, \n",
    "                                                             horizontal_flip=True, \n",
    "                                                             fill_mode='nearest')\n",
    "#test_datagen = keras.preprocessing.image.ImageDataGenerator(rescale=1./255)\n",
    "train_generator = train_datagen.flow_from_directory(directory='data/data/train',target_size=(150,150),class_mode='binary', batch_size=20)\n",
    "#test_generator = test_datagen.flow_from_directory(directory='data/data/test',target_size=(150,150),class_mode='binary', batch_size=20)"
   ]
  },
  {
   "cell_type": "markdown",
   "id": "3238330b-1a90-4797-aeec-e29273361860",
   "metadata": {},
   "source": [
    "## Question 5\n",
    "\n",
    "Let's train our model for 10 more epochs using the same code as previously.\n",
    "\n",
    "    Note: make sure you don't re-create the model - we want to continue training the model we already started training.\n",
    "\n",
    "What is the mean of test loss for all the epochs for the model trained with augmentations?\n",
    "- 0.18\n",
    "- 0.48\n",
    "- 0.78\n",
    "- 0.108"
   ]
  },
  {
   "cell_type": "code",
   "execution_count": 30,
   "id": "e367387f-af72-4305-b0ca-137eb82a743f",
   "metadata": {
    "tags": []
   },
   "outputs": [
    {
     "name": "stdout",
     "output_type": "stream",
     "text": [
      "Epoch 1/10\n"
     ]
    },
    {
     "name": "stderr",
     "output_type": "stream",
     "text": [
      "2023-11-12 23:42:22.860862: I tensorflow/core/common_runtime/executor.cc:1197] [/device:CPU:0] (DEBUG INFO) Executor start aborting (this does not indicate an error and you can ignore this message): INVALID_ARGUMENT: You must feed a value for placeholder tensor 'Placeholder/_0' with dtype int32\n",
      "\t [[{{node Placeholder/_0}}]]\n"
     ]
    },
    {
     "name": "stdout",
     "output_type": "stream",
     "text": [
      "184/184 [==============================] - ETA: 0s - loss: 0.4982 - binary_accuracy: 0.7653"
     ]
    },
    {
     "name": "stderr",
     "output_type": "stream",
     "text": [
      "2023-11-12 23:45:52.539441: I tensorflow/core/common_runtime/executor.cc:1197] [/device:CPU:0] (DEBUG INFO) Executor start aborting (this does not indicate an error and you can ignore this message): INVALID_ARGUMENT: You must feed a value for placeholder tensor 'Placeholder/_0' with dtype int32\n",
      "\t [[{{node Placeholder/_0}}]]\n"
     ]
    },
    {
     "name": "stdout",
     "output_type": "stream",
     "text": [
      "184/184 [==============================] - 220s 1s/step - loss: 0.4982 - binary_accuracy: 0.7653 - val_loss: 0.4841 - val_binary_accuracy: 0.7603\n",
      "Epoch 2/10\n",
      "184/184 [==============================] - 205s 1s/step - loss: 0.4855 - binary_accuracy: 0.7702 - val_loss: 0.4947 - val_binary_accuracy: 0.7614\n",
      "Epoch 3/10\n",
      "184/184 [==============================] - 205s 1s/step - loss: 0.4838 - binary_accuracy: 0.7775 - val_loss: 0.5138 - val_binary_accuracy: 0.7538\n",
      "Epoch 4/10\n",
      "184/184 [==============================] - 202s 1s/step - loss: 0.4779 - binary_accuracy: 0.7797 - val_loss: 0.4615 - val_binary_accuracy: 0.7876\n",
      "Epoch 5/10\n",
      "184/184 [==============================] - 313s 2s/step - loss: 0.4696 - binary_accuracy: 0.7792 - val_loss: 0.5106 - val_binary_accuracy: 0.7658\n",
      "Epoch 6/10\n",
      "184/184 [==============================] - 274s 1s/step - loss: 0.4672 - binary_accuracy: 0.7919 - val_loss: 0.4507 - val_binary_accuracy: 0.7832\n",
      "Epoch 7/10\n",
      "184/184 [==============================] - 235s 1s/step - loss: 0.4562 - binary_accuracy: 0.7903 - val_loss: 0.5001 - val_binary_accuracy: 0.7843\n",
      "Epoch 8/10\n",
      "184/184 [==============================] - 194s 1s/step - loss: 0.4634 - binary_accuracy: 0.7786 - val_loss: 0.4916 - val_binary_accuracy: 0.7636\n",
      "Epoch 9/10\n",
      "184/184 [==============================] - 175s 951ms/step - loss: 0.4602 - binary_accuracy: 0.7854 - val_loss: 0.4405 - val_binary_accuracy: 0.8017\n",
      "Epoch 10/10\n",
      "184/184 [==============================] - 174s 941ms/step - loss: 0.4476 - binary_accuracy: 0.7974 - val_loss: 0.4411 - val_binary_accuracy: 0.7919\n"
     ]
    }
   ],
   "source": [
    "history_new = model.fit(train_generator, epochs=10, validation_data=test_generator)"
   ]
  },
  {
   "cell_type": "code",
   "execution_count": 31,
   "id": "5323fd0f-2556-49fa-9200-845397f8697e",
   "metadata": {
    "tags": []
   },
   "outputs": [
    {
     "name": "stderr",
     "output_type": "stream",
     "text": [
      "2023-11-13 00:20:00.433249: I tensorflow/core/common_runtime/executor.cc:1197] [/device:CPU:0] (DEBUG INFO) Executor start aborting (this does not indicate an error and you can ignore this message): INVALID_ARGUMENT: You must feed a value for placeholder tensor 'Placeholder/_0' with dtype int32\n",
      "\t [[{{node Placeholder/_0}}]]\n"
     ]
    },
    {
     "name": "stdout",
     "output_type": "stream",
     "text": [
      "46/46 [==============================] - 11s 247ms/step - loss: 0.4411 - binary_accuracy: 0.7919\n",
      "Loss:0.441, binary_accuracy: 0.792\n"
     ]
    }
   ],
   "source": [
    "evaluation = model.evaluate(test_generator)\n",
    "print(f'Loss:{np.round(evaluation[0],3)}, binary_accuracy: {np.round(evaluation[1],3)}')"
   ]
  },
  {
   "cell_type": "markdown",
   "id": "8631f66b-db82-451f-9772-95014cdbf705",
   "metadata": {},
   "source": [
    "## Question 6\n",
    "\n",
    "What's the average of test accuracy for the last 5 epochs (from 6 to 10) for the model trained with augmentations?\n",
    "- 0.38\n",
    "- 0.58\n",
    "- 0.78\n",
    "- 0.98"
   ]
  },
  {
   "cell_type": "code",
   "execution_count": 32,
   "id": "68d1f170-68ca-42d0-a0f1-a5ed28283800",
   "metadata": {
    "tags": []
   },
   "outputs": [
    {
     "data": {
      "text/plain": [
       "0.785"
      ]
     },
     "execution_count": 32,
     "metadata": {},
     "output_type": "execute_result"
    }
   ],
   "source": [
    "np.mean(history_new.history['val_binary_accuracy'][-5:]).round(3)"
   ]
  },
  {
   "cell_type": "code",
   "execution_count": null,
   "id": "b155d34b-bc21-45b7-9c25-5a739181f8fb",
   "metadata": {},
   "outputs": [],
   "source": []
  },
  {
   "cell_type": "code",
   "execution_count": null,
   "id": "33e96545-f2ec-4bf3-96eb-0b3fa711514a",
   "metadata": {},
   "outputs": [],
   "source": []
  }
 ],
 "metadata": {
  "kernelspec": {
   "display_name": "Python 3 (ipykernel)",
   "language": "python",
   "name": "python3"
  },
  "language_info": {
   "codemirror_mode": {
    "name": "ipython",
    "version": 3
   },
   "file_extension": ".py",
   "mimetype": "text/x-python",
   "name": "python",
   "nbconvert_exporter": "python",
   "pygments_lexer": "ipython3",
   "version": "3.9.18"
  }
 },
 "nbformat": 4,
 "nbformat_minor": 5
}
