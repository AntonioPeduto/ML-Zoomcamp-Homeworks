{
 "cells": [
  {
   "cell_type": "code",
   "execution_count": 1,
   "id": "704cade0-bc57-434e-9337-e437a14ac181",
   "metadata": {
    "tags": []
   },
   "outputs": [],
   "source": [
    "# Import the main libraries\n",
    "import numpy as np\n",
    "import pandas as pd\n",
    "import matplotlib.pyplot as plt\n",
    "%matplotlib inline"
   ]
  },
  {
   "cell_type": "markdown",
   "id": "4a162cab-ab89-4244-bd2a-9712d3ed0415",
   "metadata": {},
   "source": [
    "In this homework, we will use the Car price dataset like last week.\n",
    "You can download it with wget"
   ]
  },
  {
   "cell_type": "code",
   "execution_count": 2,
   "id": "38f0f05d-5eb1-464f-b9b8-ace2eddeed30",
   "metadata": {
    "tags": []
   },
   "outputs": [
    {
     "name": "stdout",
     "output_type": "stream",
     "text": [
      "--2023-10-08 11:49:32--  https://raw.githubusercontent.com/alexeygrigorev/mlbookcamp-code/master/chapter-02-car-price/data.csv\n",
      "Resolving raw.githubusercontent.com (raw.githubusercontent.com)... 185.199.111.133, 185.199.110.133, 185.199.109.133, ...\n",
      "Connecting to raw.githubusercontent.com (raw.githubusercontent.com)|185.199.111.133|:443... connected.\n",
      "HTTP request sent, awaiting response... 200 OK\n",
      "Length: 1475504 (1.4M) [text/plain]\n",
      "Saving to: ‘data.csv’\n",
      "\n",
      "data.csv            100%[===================>]   1.41M  4.97MB/s    in 0.3s    \n",
      "\n",
      "2023-10-08 11:49:32 (4.97 MB/s) - ‘data.csv’ saved [1475504/1475504]\n",
      "\n"
     ]
    }
   ],
   "source": [
    "! wget -O data.csv https://raw.githubusercontent.com/alexeygrigorev/mlbookcamp-code/master/chapter-02-car-price/data.csv"
   ]
  },
  {
   "cell_type": "markdown",
   "id": "64e1e4cc-0f94-4667-ac1f-ca17b53336e8",
   "metadata": {},
   "source": [
    "We'll work with the MSRP variable, and we'll transform it to a classification task.\n",
    "\n",
    "For the rest of the homework, you'll need to use only these columns:\n",
    "- Make,\n",
    "- Model,\n",
    "- Year,\n",
    "- Engine HP,\n",
    "- Engine Cylinders,\n",
    "- Transmission Type,\n",
    "- Vehicle Style,\n",
    "- highway MPG,\n",
    "- city mpg\n",
    "- MSRP"
   ]
  },
  {
   "cell_type": "code",
   "execution_count": 3,
   "id": "f87494cf-e5e9-4923-995d-fc4905c26adb",
   "metadata": {
    "tags": []
   },
   "outputs": [],
   "source": [
    "file_name = 'data.csv'\n",
    "data = pd.read_csv(file_name)"
   ]
  },
  {
   "cell_type": "code",
   "execution_count": 4,
   "id": "f6be49b7-c1c6-44ea-a95e-b1e08a74ab2f",
   "metadata": {
    "tags": []
   },
   "outputs": [],
   "source": [
    "columns = ['Make','Model','Year','Engine HP','Engine Cylinders','Transmission Type','Vehicle Style','highway MPG','city mpg','MSRP']"
   ]
  },
  {
   "cell_type": "code",
   "execution_count": 5,
   "id": "4f7e834c-27ae-46bc-b795-e13bff114283",
   "metadata": {
    "tags": []
   },
   "outputs": [],
   "source": [
    "data = data[columns]"
   ]
  },
  {
   "cell_type": "markdown",
   "id": "4d163a3a-c5ed-4839-9b40-96a8b4d2665e",
   "metadata": {},
   "source": [
    "## Data preparation\n",
    "- Keep only the columns above\n",
    "- Lowercase the column names and replace spaces with underscores\n",
    "- Fill the missing values with 0\n",
    "- Make the price binary (1 if above the average, 0 otherwise) - this will be our target variable above_average\n",
    "\n",
    "Split the data into 3 parts: train/validation/test with 60%/20%/20% distribution. Use train_test_split function for that with random_state=1."
   ]
  },
  {
   "cell_type": "code",
   "execution_count": 6,
   "id": "698febaa-f120-4f2e-bb0e-090b541288b7",
   "metadata": {
    "tags": []
   },
   "outputs": [
    {
     "data": {
      "text/plain": [
       "{'Make': 'make',\n",
       " 'Model': 'model',\n",
       " 'Year': 'year',\n",
       " 'Engine HP': 'engine_hp',\n",
       " 'Engine Cylinders': 'engine_cylinders',\n",
       " 'Transmission Type': 'transmission_type',\n",
       " 'Vehicle Style': 'vehicle_style',\n",
       " 'highway MPG': 'highway_mpg',\n",
       " 'city mpg': 'city_mpg',\n",
       " 'MSRP': 'msrp'}"
      ]
     },
     "execution_count": 6,
     "metadata": {},
     "output_type": "execute_result"
    }
   ],
   "source": [
    "dict_columns = {}\n",
    "for column in data.columns.to_numpy():\n",
    "    dict_columns[column]=column.lower().replace(\" \",\"_\")\n",
    "    \n",
    "dict_columns"
   ]
  },
  {
   "cell_type": "code",
   "execution_count": 7,
   "id": "2fb7d3b9-a2b8-4b1d-a1e1-044281071014",
   "metadata": {
    "tags": []
   },
   "outputs": [],
   "source": [
    "data.rename(columns=dict_columns,inplace=True)"
   ]
  },
  {
   "cell_type": "code",
   "execution_count": 8,
   "id": "8afae889-2483-441d-952d-f2b8d99af3ce",
   "metadata": {
    "tags": []
   },
   "outputs": [
    {
     "data": {
      "text/plain": [
       "make                  0\n",
       "model                 0\n",
       "year                  0\n",
       "engine_hp            69\n",
       "engine_cylinders     30\n",
       "transmission_type     0\n",
       "vehicle_style         0\n",
       "highway_mpg           0\n",
       "city_mpg              0\n",
       "msrp                  0\n",
       "dtype: int64"
      ]
     },
     "execution_count": 8,
     "metadata": {},
     "output_type": "execute_result"
    }
   ],
   "source": [
    "data.isna().sum()"
   ]
  },
  {
   "cell_type": "code",
   "execution_count": 9,
   "id": "16bf3561-7ee9-44b0-83b9-250fb406aa6f",
   "metadata": {},
   "outputs": [],
   "source": [
    "data.fillna(0,inplace=True)"
   ]
  },
  {
   "cell_type": "code",
   "execution_count": 10,
   "id": "074cfd84-66c4-4e46-96c6-c74124c76569",
   "metadata": {
    "tags": []
   },
   "outputs": [],
   "source": [
    "data['above_average'] = data['msrp'].map(lambda x: 1 if x > data.msrp.mean() else 0)"
   ]
  },
  {
   "cell_type": "code",
   "execution_count": 11,
   "id": "ee9e6d0c-9454-4f88-8092-72eef017b3aa",
   "metadata": {
    "tags": []
   },
   "outputs": [
    {
     "data": {
      "text/html": [
       "<div>\n",
       "<style scoped>\n",
       "    .dataframe tbody tr th:only-of-type {\n",
       "        vertical-align: middle;\n",
       "    }\n",
       "\n",
       "    .dataframe tbody tr th {\n",
       "        vertical-align: top;\n",
       "    }\n",
       "\n",
       "    .dataframe thead th {\n",
       "        text-align: right;\n",
       "    }\n",
       "</style>\n",
       "<table border=\"1\" class=\"dataframe\">\n",
       "  <thead>\n",
       "    <tr style=\"text-align: right;\">\n",
       "      <th></th>\n",
       "      <th>make</th>\n",
       "      <th>model</th>\n",
       "      <th>year</th>\n",
       "      <th>engine_hp</th>\n",
       "      <th>engine_cylinders</th>\n",
       "      <th>transmission_type</th>\n",
       "      <th>vehicle_style</th>\n",
       "      <th>highway_mpg</th>\n",
       "      <th>city_mpg</th>\n",
       "      <th>msrp</th>\n",
       "      <th>above_average</th>\n",
       "    </tr>\n",
       "  </thead>\n",
       "  <tbody>\n",
       "    <tr>\n",
       "      <th>0</th>\n",
       "      <td>BMW</td>\n",
       "      <td>1 Series M</td>\n",
       "      <td>2011</td>\n",
       "      <td>335.0</td>\n",
       "      <td>6.0</td>\n",
       "      <td>MANUAL</td>\n",
       "      <td>Coupe</td>\n",
       "      <td>26</td>\n",
       "      <td>19</td>\n",
       "      <td>46135</td>\n",
       "      <td>1</td>\n",
       "    </tr>\n",
       "    <tr>\n",
       "      <th>1</th>\n",
       "      <td>BMW</td>\n",
       "      <td>1 Series</td>\n",
       "      <td>2011</td>\n",
       "      <td>300.0</td>\n",
       "      <td>6.0</td>\n",
       "      <td>MANUAL</td>\n",
       "      <td>Convertible</td>\n",
       "      <td>28</td>\n",
       "      <td>19</td>\n",
       "      <td>40650</td>\n",
       "      <td>1</td>\n",
       "    </tr>\n",
       "    <tr>\n",
       "      <th>2</th>\n",
       "      <td>BMW</td>\n",
       "      <td>1 Series</td>\n",
       "      <td>2011</td>\n",
       "      <td>300.0</td>\n",
       "      <td>6.0</td>\n",
       "      <td>MANUAL</td>\n",
       "      <td>Coupe</td>\n",
       "      <td>28</td>\n",
       "      <td>20</td>\n",
       "      <td>36350</td>\n",
       "      <td>0</td>\n",
       "    </tr>\n",
       "    <tr>\n",
       "      <th>3</th>\n",
       "      <td>BMW</td>\n",
       "      <td>1 Series</td>\n",
       "      <td>2011</td>\n",
       "      <td>230.0</td>\n",
       "      <td>6.0</td>\n",
       "      <td>MANUAL</td>\n",
       "      <td>Coupe</td>\n",
       "      <td>28</td>\n",
       "      <td>18</td>\n",
       "      <td>29450</td>\n",
       "      <td>0</td>\n",
       "    </tr>\n",
       "    <tr>\n",
       "      <th>4</th>\n",
       "      <td>BMW</td>\n",
       "      <td>1 Series</td>\n",
       "      <td>2011</td>\n",
       "      <td>230.0</td>\n",
       "      <td>6.0</td>\n",
       "      <td>MANUAL</td>\n",
       "      <td>Convertible</td>\n",
       "      <td>28</td>\n",
       "      <td>18</td>\n",
       "      <td>34500</td>\n",
       "      <td>0</td>\n",
       "    </tr>\n",
       "  </tbody>\n",
       "</table>\n",
       "</div>"
      ],
      "text/plain": [
       "  make       model  year  engine_hp  engine_cylinders transmission_type  \\\n",
       "0  BMW  1 Series M  2011      335.0               6.0            MANUAL   \n",
       "1  BMW    1 Series  2011      300.0               6.0            MANUAL   \n",
       "2  BMW    1 Series  2011      300.0               6.0            MANUAL   \n",
       "3  BMW    1 Series  2011      230.0               6.0            MANUAL   \n",
       "4  BMW    1 Series  2011      230.0               6.0            MANUAL   \n",
       "\n",
       "  vehicle_style  highway_mpg  city_mpg   msrp  above_average  \n",
       "0         Coupe           26        19  46135              1  \n",
       "1   Convertible           28        19  40650              1  \n",
       "2         Coupe           28        20  36350              0  \n",
       "3         Coupe           28        18  29450              0  \n",
       "4   Convertible           28        18  34500              0  "
      ]
     },
     "execution_count": 11,
     "metadata": {},
     "output_type": "execute_result"
    }
   ],
   "source": [
    "data.head()"
   ]
  },
  {
   "cell_type": "code",
   "execution_count": 12,
   "id": "3b15ddeb-3771-4ed7-8d31-601d05aedbf5",
   "metadata": {
    "tags": []
   },
   "outputs": [],
   "source": [
    "from sklearn.model_selection import train_test_split"
   ]
  },
  {
   "cell_type": "code",
   "execution_count": 13,
   "id": "70c5d0a9-d2d9-41f0-9cac-9235953d3e61",
   "metadata": {
    "tags": []
   },
   "outputs": [
    {
     "name": "stdout",
     "output_type": "stream",
     "text": [
      "Data train shape:  (7148, 11)\n"
     ]
    }
   ],
   "source": [
    "data_train, data_val_test = train_test_split(data, train_size=0.6, test_size=0.4, random_state=1)\n",
    "print('Data train shape: ',data_train.shape)"
   ]
  },
  {
   "cell_type": "code",
   "execution_count": 14,
   "id": "fcb64380-1709-4b65-ad52-d7f4aef46729",
   "metadata": {
    "tags": []
   },
   "outputs": [
    {
     "name": "stdout",
     "output_type": "stream",
     "text": [
      "Data val shape:  (2383, 11) , data test shape:  (2383, 11)\n"
     ]
    }
   ],
   "source": [
    "data_val, data_test = train_test_split(data_val_test, train_size=0.5, test_size=0.5, random_state=1)\n",
    "print('Data val shape: ',data_val.shape, ', data test shape: ', data_test.shape)"
   ]
  },
  {
   "cell_type": "code",
   "execution_count": 15,
   "id": "01e483d7-4ff8-47d4-a2aa-5ea581e6c1fe",
   "metadata": {
    "tags": []
   },
   "outputs": [],
   "source": [
    "Y_train = data_train.above_average.to_numpy()\n",
    "Y_val = data_val.above_average.to_numpy()\n",
    "Y_test = data_test.above_average.to_numpy()\n",
    "data_X_train = data_train.drop(columns=['msrp','above_average'])\n",
    "data_X_val = data_val.drop(columns=['msrp','above_average'])\n",
    "data_X_test = data_test.drop(columns=['msrp','above_average'])"
   ]
  },
  {
   "cell_type": "code",
   "execution_count": 16,
   "id": "cad898c6-66f6-49e8-95d3-233d4740980d",
   "metadata": {
    "tags": []
   },
   "outputs": [
    {
     "data": {
      "text/plain": [
       "Index(['make', 'model', 'year', 'engine_hp', 'engine_cylinders',\n",
       "       'transmission_type', 'vehicle_style', 'highway_mpg', 'city_mpg'],\n",
       "      dtype='object')"
      ]
     },
     "execution_count": 16,
     "metadata": {},
     "output_type": "execute_result"
    }
   ],
   "source": [
    "data_X_train.columns"
   ]
  },
  {
   "cell_type": "code",
   "execution_count": 17,
   "id": "a2463920-4e49-4b31-afe8-11629ff621b9",
   "metadata": {
    "tags": []
   },
   "outputs": [
    {
     "data": {
      "text/plain": [
       "make                  object\n",
       "model                 object\n",
       "year                   int64\n",
       "engine_hp            float64\n",
       "engine_cylinders     float64\n",
       "transmission_type     object\n",
       "vehicle_style         object\n",
       "highway_mpg            int64\n",
       "city_mpg               int64\n",
       "msrp                   int64\n",
       "above_average          int64\n",
       "dtype: object"
      ]
     },
     "execution_count": 17,
     "metadata": {},
     "output_type": "execute_result"
    }
   ],
   "source": [
    "data.dtypes"
   ]
  },
  {
   "cell_type": "code",
   "execution_count": 18,
   "id": "fcf536b4-0539-45db-9fae-a4afe3579c13",
   "metadata": {},
   "outputs": [],
   "source": [
    "# Get categorical features\n",
    "categorical = data_X_train.columns[data_X_train.dtypes == 'object'].to_list()\n",
    "# Get numeric features\n",
    "numerical = data_X_train.columns[data_X_train.dtypes != 'object'].to_list()"
   ]
  },
  {
   "cell_type": "markdown",
   "id": "b6af58f5-116b-4780-856f-36b825a4cecc",
   "metadata": {},
   "source": [
    "## Question 1: ROC AUC feature importance\n",
    "\n",
    "ROC AUC could also be used to evaluate feature importance of numerical variables.\n",
    "\n",
    "Let's do that\n",
    "\n",
    "- For each numerical variable, use it as score and compute AUC with the above_average variable\n",
    "- Use the training dataset for that\n",
    "\n",
    "If your AUC is < 0.5, invert this variable by putting \"-\" in front\n",
    "\n",
    "(e.g. -df_train['engine_hp'])\n",
    "\n",
    "AUC can go below 0.5 if the variable is negatively correlated with the target varialble. You can change the direction of the correlation by negating this variable - then negative correlation becomes positive.\n",
    "\n",
    "Which numerical variable (among the following 4) has the highest AUC?\n",
    "\n",
    "- engine_hp\n",
    "- engine_cylinders\n",
    "- highway_mpg\n",
    "- city_mpg"
   ]
  },
  {
   "cell_type": "code",
   "execution_count": 19,
   "id": "bf8602b5-aafe-4cce-8123-d2e01247d1db",
   "metadata": {
    "tags": []
   },
   "outputs": [],
   "source": [
    "# Import roc_auc_score from module sklearn.metrics\n",
    "from sklearn.metrics import roc_auc_score"
   ]
  },
  {
   "cell_type": "code",
   "execution_count": 20,
   "id": "605b8659-2252-4a23-b565-b55dfd4b331f",
   "metadata": {
    "tags": []
   },
   "outputs": [
    {
     "name": "stdout",
     "output_type": "stream",
     "text": [
      "y_score: year, y_true: above_average -> auc_score: 0.6943018002799936\n",
      "y_score: engine_hp, y_true: above_average -> auc_score: 0.9159001518508375\n",
      "y_score: engine_cylinders, y_true: above_average -> auc_score: 0.768274900593613\n",
      "y_score: highway_mpg, y_true: above_average -> auc_score: 0.6333685399678282\n",
      "y_score: city_mpg, y_true: above_average -> auc_score: 0.67232674562278\n"
     ]
    }
   ],
   "source": [
    "for col_num in numerical:\n",
    "    Y_score = data_train[col_num].to_numpy()\n",
    "    Y_true = data_train.above_average.to_numpy()\n",
    "    auc_value = roc_auc_score(y_true=Y_true, y_score=Y_score)\n",
    "    if auc_value < 0.5:\n",
    "        auc_value = roc_auc_score(y_true=Y_true, y_score=-Y_score)\n",
    "    print('y_score:',col_num+',','y_true: above_average','-> auc_score:',auc_value)"
   ]
  },
  {
   "cell_type": "markdown",
   "id": "6f817ccc-ee7d-4d50-bc79-466d5ac4a1e8",
   "metadata": {},
   "source": [
    "## Question 2: Training the model\n",
    "\n",
    "Apply one-hot-encoding using DictVectorizer and train the logistic regression with these parameters:\n",
    "<code>\n",
    "LogisticRegression(solver='liblinear', C=1.0, max_iter=1000)\n",
    "</code>\n",
    "What's the AUC of this model on the validation dataset? (round to 3 digits)\n",
    "- 0.678\n",
    "- 0.779\n",
    "- 0.878\n",
    "- 0.979"
   ]
  },
  {
   "cell_type": "code",
   "execution_count": 21,
   "id": "ac99075d-6032-4dc5-bcd2-959abd51c95c",
   "metadata": {
    "tags": []
   },
   "outputs": [],
   "source": [
    "#Import DictVectorizer and logistic regression from scikit-learn\n",
    "from sklearn.feature_extraction import DictVectorizer\n",
    "from sklearn.linear_model import LogisticRegression"
   ]
  },
  {
   "cell_type": "code",
   "execution_count": 22,
   "id": "d5a37a20-f8da-4136-b731-1048b276b3cc",
   "metadata": {
    "tags": []
   },
   "outputs": [],
   "source": [
    "model = LogisticRegression(solver='liblinear', C=1.0, max_iter=1000)"
   ]
  },
  {
   "cell_type": "code",
   "execution_count": 23,
   "id": "f531481d-384b-4e82-bed2-579dde4c2668",
   "metadata": {
    "tags": []
   },
   "outputs": [
    {
     "data": {
      "text/plain": [
       "(7148, 954)"
      ]
     },
     "execution_count": 23,
     "metadata": {},
     "output_type": "execute_result"
    }
   ],
   "source": [
    "# Onehot encoding for X_train\n",
    "dv = DictVectorizer(sparse=False)\n",
    "dict_train = data_X_train[categorical+numerical].to_dict(orient='records')\n",
    "X_train = dv.fit_transform(dict_train)\n",
    "X_train.shape"
   ]
  },
  {
   "cell_type": "code",
   "execution_count": 24,
   "id": "d300546d-783d-46f5-84af-7955cd8abb89",
   "metadata": {
    "tags": []
   },
   "outputs": [
    {
     "data": {
      "text/plain": [
       "(2383, 954)"
      ]
     },
     "execution_count": 24,
     "metadata": {},
     "output_type": "execute_result"
    }
   ],
   "source": [
    "# One hot encoding for X_val\n",
    "dict_val = data_X_val[categorical+numerical].to_dict(orient='records')\n",
    "X_val = dv.transform(dict_val)\n",
    "X_val.shape"
   ]
  },
  {
   "cell_type": "code",
   "execution_count": 25,
   "id": "32cd76fe-809b-47d7-9d00-cc0f7abdb969",
   "metadata": {
    "tags": []
   },
   "outputs": [
    {
     "data": {
      "text/html": [
       "<style>#sk-container-id-1 {color: black;}#sk-container-id-1 pre{padding: 0;}#sk-container-id-1 div.sk-toggleable {background-color: white;}#sk-container-id-1 label.sk-toggleable__label {cursor: pointer;display: block;width: 100%;margin-bottom: 0;padding: 0.3em;box-sizing: border-box;text-align: center;}#sk-container-id-1 label.sk-toggleable__label-arrow:before {content: \"▸\";float: left;margin-right: 0.25em;color: #696969;}#sk-container-id-1 label.sk-toggleable__label-arrow:hover:before {color: black;}#sk-container-id-1 div.sk-estimator:hover label.sk-toggleable__label-arrow:before {color: black;}#sk-container-id-1 div.sk-toggleable__content {max-height: 0;max-width: 0;overflow: hidden;text-align: left;background-color: #f0f8ff;}#sk-container-id-1 div.sk-toggleable__content pre {margin: 0.2em;color: black;border-radius: 0.25em;background-color: #f0f8ff;}#sk-container-id-1 input.sk-toggleable__control:checked~div.sk-toggleable__content {max-height: 200px;max-width: 100%;overflow: auto;}#sk-container-id-1 input.sk-toggleable__control:checked~label.sk-toggleable__label-arrow:before {content: \"▾\";}#sk-container-id-1 div.sk-estimator input.sk-toggleable__control:checked~label.sk-toggleable__label {background-color: #d4ebff;}#sk-container-id-1 div.sk-label input.sk-toggleable__control:checked~label.sk-toggleable__label {background-color: #d4ebff;}#sk-container-id-1 input.sk-hidden--visually {border: 0;clip: rect(1px 1px 1px 1px);clip: rect(1px, 1px, 1px, 1px);height: 1px;margin: -1px;overflow: hidden;padding: 0;position: absolute;width: 1px;}#sk-container-id-1 div.sk-estimator {font-family: monospace;background-color: #f0f8ff;border: 1px dotted black;border-radius: 0.25em;box-sizing: border-box;margin-bottom: 0.5em;}#sk-container-id-1 div.sk-estimator:hover {background-color: #d4ebff;}#sk-container-id-1 div.sk-parallel-item::after {content: \"\";width: 100%;border-bottom: 1px solid gray;flex-grow: 1;}#sk-container-id-1 div.sk-label:hover label.sk-toggleable__label {background-color: #d4ebff;}#sk-container-id-1 div.sk-serial::before {content: \"\";position: absolute;border-left: 1px solid gray;box-sizing: border-box;top: 0;bottom: 0;left: 50%;z-index: 0;}#sk-container-id-1 div.sk-serial {display: flex;flex-direction: column;align-items: center;background-color: white;padding-right: 0.2em;padding-left: 0.2em;position: relative;}#sk-container-id-1 div.sk-item {position: relative;z-index: 1;}#sk-container-id-1 div.sk-parallel {display: flex;align-items: stretch;justify-content: center;background-color: white;position: relative;}#sk-container-id-1 div.sk-item::before, #sk-container-id-1 div.sk-parallel-item::before {content: \"\";position: absolute;border-left: 1px solid gray;box-sizing: border-box;top: 0;bottom: 0;left: 50%;z-index: -1;}#sk-container-id-1 div.sk-parallel-item {display: flex;flex-direction: column;z-index: 1;position: relative;background-color: white;}#sk-container-id-1 div.sk-parallel-item:first-child::after {align-self: flex-end;width: 50%;}#sk-container-id-1 div.sk-parallel-item:last-child::after {align-self: flex-start;width: 50%;}#sk-container-id-1 div.sk-parallel-item:only-child::after {width: 0;}#sk-container-id-1 div.sk-dashed-wrapped {border: 1px dashed gray;margin: 0 0.4em 0.5em 0.4em;box-sizing: border-box;padding-bottom: 0.4em;background-color: white;}#sk-container-id-1 div.sk-label label {font-family: monospace;font-weight: bold;display: inline-block;line-height: 1.2em;}#sk-container-id-1 div.sk-label-container {text-align: center;}#sk-container-id-1 div.sk-container {/* jupyter's `normalize.less` sets `[hidden] { display: none; }` but bootstrap.min.css set `[hidden] { display: none !important; }` so we also need the `!important` here to be able to override the default hidden behavior on the sphinx rendered scikit-learn.org. See: https://github.com/scikit-learn/scikit-learn/issues/21755 */display: inline-block !important;position: relative;}#sk-container-id-1 div.sk-text-repr-fallback {display: none;}</style><div id=\"sk-container-id-1\" class=\"sk-top-container\"><div class=\"sk-text-repr-fallback\"><pre>LogisticRegression(max_iter=1000, solver=&#x27;liblinear&#x27;)</pre><b>In a Jupyter environment, please rerun this cell to show the HTML representation or trust the notebook. <br />On GitHub, the HTML representation is unable to render, please try loading this page with nbviewer.org.</b></div><div class=\"sk-container\" hidden><div class=\"sk-item\"><div class=\"sk-estimator sk-toggleable\"><input class=\"sk-toggleable__control sk-hidden--visually\" id=\"sk-estimator-id-1\" type=\"checkbox\" checked><label for=\"sk-estimator-id-1\" class=\"sk-toggleable__label sk-toggleable__label-arrow\">LogisticRegression</label><div class=\"sk-toggleable__content\"><pre>LogisticRegression(max_iter=1000, solver=&#x27;liblinear&#x27;)</pre></div></div></div></div></div>"
      ],
      "text/plain": [
       "LogisticRegression(max_iter=1000, solver='liblinear')"
      ]
     },
     "execution_count": 25,
     "metadata": {},
     "output_type": "execute_result"
    }
   ],
   "source": [
    "# Fit model\n",
    "model.fit(X=X_train,y=Y_train)"
   ]
  },
  {
   "cell_type": "code",
   "execution_count": 26,
   "id": "b090fd6e-1adc-40e5-b60c-c4fcea670ac2",
   "metadata": {
    "tags": []
   },
   "outputs": [],
   "source": [
    "# Prediction of X_val\n",
    "Y_val_pred = model.predict_proba(X=X_val)[:,1]"
   ]
  },
  {
   "cell_type": "code",
   "execution_count": 27,
   "id": "95c49c56-adcb-4819-8947-937ed98f26e4",
   "metadata": {
    "tags": []
   },
   "outputs": [
    {
     "data": {
      "text/plain": [
       "(2383,)"
      ]
     },
     "execution_count": 27,
     "metadata": {},
     "output_type": "execute_result"
    }
   ],
   "source": [
    "Y_val_pred.shape"
   ]
  },
  {
   "cell_type": "code",
   "execution_count": 28,
   "id": "5cf8a664-ee92-41b7-bf5e-26c23ae3d6e4",
   "metadata": {
    "tags": []
   },
   "outputs": [],
   "source": [
    "# Import roc_curve and auc from scikit-learn\n",
    "from sklearn.metrics import roc_curve, auc"
   ]
  },
  {
   "cell_type": "code",
   "execution_count": 29,
   "id": "d66dc178-b942-4d7e-b553-426138e57ef4",
   "metadata": {
    "tags": []
   },
   "outputs": [],
   "source": [
    "# Get fpr tpr and thresholds, \n",
    "fpr, tpr, thresholds = roc_curve(y_true=Y_val, y_score=Y_val_pred)"
   ]
  },
  {
   "cell_type": "code",
   "execution_count": 30,
   "id": "c15e6288-e8ff-435e-9435-8018b756507f",
   "metadata": {
    "tags": []
   },
   "outputs": [
    {
     "data": {
      "text/plain": [
       "Text(0, 0.5, 'TPR')"
      ]
     },
     "execution_count": 30,
     "metadata": {},
     "output_type": "execute_result"
    },
    {
     "data": {
      "image/png": "[encoded data removed]",
      "text/plain": [
       "<Figure size 640x480 with 1 Axes>"
      ]
     },
     "metadata": {},
     "output_type": "display_data"
    }
   ],
   "source": [
    "plt.plot(fpr,tpr)\n",
    "plt.xlabel('FPR')\n",
    "plt.ylabel('TPR')"
   ]
  },
  {
   "cell_type": "code",
   "execution_count": 31,
   "id": "4f02c883-e361-4c8e-a12c-9a6996fd9c23",
   "metadata": {
    "tags": []
   },
   "outputs": [
    {
     "name": "stdout",
     "output_type": "stream",
     "text": [
      "auc value: 0.9799773104405838\n"
     ]
    }
   ],
   "source": [
    "# get AUC score\n",
    "auc_value = auc(x=fpr, y=tpr)\n",
    "print('auc value:',auc_value)"
   ]
  },
  {
   "cell_type": "code",
   "execution_count": 32,
   "id": "ed65bf8e-57e3-4dc6-8e97-2381e7b95cff",
   "metadata": {
    "tags": []
   },
   "outputs": [
    {
     "data": {
      "text/plain": [
       "0.9799773104405838"
      ]
     },
     "execution_count": 32,
     "metadata": {},
     "output_type": "execute_result"
    }
   ],
   "source": [
    "# get AUC score by the function roc_auc_score\n",
    "roc_auc_score(y_true=Y_val, y_score=Y_val_pred,)"
   ]
  },
  {
   "cell_type": "markdown",
   "id": "82786116-f665-405b-889c-b822e1e17bb7",
   "metadata": {},
   "source": [
    "## Question 3: Precision and Recall\n",
    "\n",
    "Now let's compute precision and recall for our model.\n",
    "- Evaluate the model on all thresholds from 0.0 to 1.0 with step 0.01\n",
    "- For each threshold, compute precision and recall\n",
    "- Plot them\n",
    "\n",
    "At which threshold precision and recall curves intersect?\n",
    "- 0.28\n",
    "- 0.48\n",
    "- 0.68\n",
    "- 0.88"
   ]
  },
  {
   "cell_type": "code",
   "execution_count": 33,
   "id": "e6697260-beaa-4ff8-9a28-3f96b03b670c",
   "metadata": {
    "tags": []
   },
   "outputs": [],
   "source": [
    "# Defnition of threshold-values\n",
    "thresholds = np.arange(start=0., stop=1., step=.01)\n",
    "# Initialize precision and recall lists\n",
    "Ps = []\n",
    "Rs = []\n",
    "# get actual positive and negative\n",
    "actual_positive = (Y_val == 1)\n",
    "actual_negative = (Y_val == 0)\n",
    "# fro each value of threshold\n",
    "for threshold in thresholds:\n",
    "    # get predict positive and negative\n",
    "    predict_positive = (Y_val_pred >= threshold)\n",
    "    predict_negative = (Y_val_pred < threshold)\n",
    "    # get value of true positive\n",
    "    tp = (predict_positive & actual_positive).sum()\n",
    "    # get value of true negative\n",
    "    tn = (predict_negative & actual_negative).sum()\n",
    "    # get value of false positive\n",
    "    fp = (predict_positive & actual_negative).sum()\n",
    "    # get value of false negative\n",
    "    fn = (predict_negative & actual_positive).sum()\n",
    "    # get value of precision\n",
    "    P = tp/(tp+fp)\n",
    "    # save its\n",
    "    Ps.append(P)\n",
    "    # get value of recall\n",
    "    R = tp/(tp + fn)\n",
    "    # save its\n",
    "    Rs.append(R)"
   ]
  },
  {
   "cell_type": "code",
   "execution_count": 53,
   "id": "0275a8e7-e374-4da9-8227-0b01b6951dfd",
   "metadata": {
    "tags": []
   },
   "outputs": [
    {
     "data": {
      "image/png": "[encoded data removed]",
      "text/plain": [
       "<Figure size 640x480 with 1 Axes>"
      ]
     },
     "metadata": {},
     "output_type": "display_data"
    }
   ],
   "source": [
    "# Plot Precision and Recall\n",
    "plt.plot(thresholds,Ps, label='Precision')\n",
    "plt.plot(thresholds,Rs, label='Recall')\n",
    "plt.xlabel('Threshold')\n",
    "plt.ylabel('Precision/Recall')\n",
    "plt.legend()\n",
    "plt.show()"
   ]
  },
  {
   "cell_type": "markdown",
   "id": "e5d692ac-5504-4445-8a7e-b31fb04c18f8",
   "metadata": {},
   "source": [
    "## Question 4: F1 score\n",
    "\n",
    "Precision and recall are conflicting - when one grows, the other goes down. That's why they are often combined into the F1 score - a metrics that takes into account both\n",
    "\n",
    "This is the formula for computing F1:\n",
    "<code>\n",
    "    F_1 = 2*(P*R)/(P+R)\n",
    "</code>\n",
    "\n",
    "Where *P* is precision and *R* is recall.\n",
    "\n",
    "Let's compute F1 for all thresholds from 0.0 to 1.0 with increment 0.01\n",
    "\n",
    "At which threshold F1 is maximal?\n",
    "- 0.12\n",
    "- 0.32\n",
    "- 0.52\n",
    "- 0.72"
   ]
  },
  {
   "cell_type": "code",
   "execution_count": 34,
   "id": "6f7cd7d7-fd30-4321-8f51-72edde50d573",
   "metadata": {
    "tags": []
   },
   "outputs": [
    {
     "name": "stdout",
     "output_type": "stream",
     "text": [
      "Max value of F1: 0.8841269841269841 -> threshold: 0.53\n"
     ]
    }
   ],
   "source": [
    "thresholds = np.arange(start=0., stop=1., step=.01)\n",
    "F1_list = []\n",
    "\n",
    "# get actual positive and negative\n",
    "actual_positive = (Y_val == 1)\n",
    "actual_negative = (Y_val == 0)\n",
    "# fro each value of threshold\n",
    "for threshold in thresholds:\n",
    "    # get predict positive and negative\n",
    "    predict_positive = (Y_val_pred >= threshold)\n",
    "    predict_negative = (Y_val_pred < threshold)\n",
    "    # get value of true positive\n",
    "    tp = (predict_positive & actual_positive).sum()\n",
    "    # get value of true negative\n",
    "    tn = (predict_negative & actual_negative).sum()\n",
    "    # get value of false positive\n",
    "    fp = (predict_positive & actual_negative).sum()\n",
    "    # get value of false negative\n",
    "    fn = (predict_negative & actual_positive).sum()\n",
    "    # get value of precision\n",
    "    P = tp/(tp+fp)\n",
    "    # get value of recall\n",
    "    R = tp/(tp + fn)\n",
    "    # get value of F1\n",
    "    F1 = 2*(P*R)/(P+R)\n",
    "    # save its\n",
    "    F1_list.append(F1)\n",
    "    \n",
    "# get the threshold at which F1 is max\n",
    "idx_max = F1_list.index(max(F1_list))\n",
    "print('Max value of F1:',max(F1_list),'-> threshold:',thresholds[idx_max])"
   ]
  },
  {
   "cell_type": "code",
   "execution_count": 35,
   "id": "8387eb1e-755d-47f2-a759-7efebf45a317",
   "metadata": {
    "tags": []
   },
   "outputs": [
    {
     "name": "stdout",
     "output_type": "stream",
     "text": [
      "Max value of F1: 0.8841269841269841 -> threshold: 0.53\n"
     ]
    }
   ],
   "source": [
    "# Get such value in different way\n",
    "from sklearn.metrics import f1_score\n",
    "F1_list = []\n",
    "# for each value of threshold\n",
    "for threshold in thresholds:\n",
    "    f1 = f1_score(y_true=Y_val, y_pred=(Y_val_pred>=threshold))\n",
    "    F1_list.append(f1)\n",
    "    \n",
    "idx_max = F1_list.index(max(F1_list))\n",
    "print('Max value of F1:',max(F1_list),'-> threshold:',thresholds[idx_max])"
   ]
  },
  {
   "cell_type": "markdown",
   "id": "4f866536-07d8-45eb-b0dc-a551c85b11ae",
   "metadata": {},
   "source": [
    "## Question 5: 5-Fold CV\n",
    "\n",
    "Use the KFold class from Scikit-Learn to evaluate our model on 5 different folds:\n",
    "\n",
    "KFold(n_splits=5, shuffle=True, random_state=1)\n",
    "- Iterate over different folds of df_full_train\n",
    "- Split the data into train and validation\n",
    "- Train the model on train with these parameters: LogisticRegression(solver='liblinear', C=1.0, max_iter=1000)\n",
    "- Use AUC to evaluate the model on validation\n",
    "\n",
    "How large is standard devidation of the scores across different folds?\n",
    "- 0.003\n",
    "- 0.030\n",
    "- 0.090\n",
    "- 0.140"
   ]
  },
  {
   "cell_type": "code",
   "execution_count": 36,
   "id": "810b3742-8b1f-4944-a717-13788e9844f2",
   "metadata": {
    "tags": []
   },
   "outputs": [],
   "source": [
    "# Definition of function for training model\n",
    "def train_model(df, y_train):\n",
    "    dict_train = df[categorical+numerical].to_dict(orient='records')\n",
    "    dv = DictVectorizer(sparse=False)\n",
    "    X_train = dv.fit_transform(dict_train)\n",
    "    model = LogisticRegression(solver='liblinear',C=1.0,max_iter=1000)\n",
    "    model.fit(X_train,y_train)\n",
    "    return dv, model"
   ]
  },
  {
   "cell_type": "code",
   "execution_count": 37,
   "id": "09c8b593-3e1d-47df-a740-30f9ad7ea040",
   "metadata": {},
   "outputs": [],
   "source": [
    "# Definition of function for prediction by model\n",
    "def predict(df, dv, model):\n",
    "    dict_pred = df[categorical+numerical].to_dict(orient='records')\n",
    "    X = dv.transform(dict_pred)\n",
    "    Y_pred = model.predict_proba(X)[:,1]\n",
    "    return Y_pred"
   ]
  },
  {
   "cell_type": "code",
   "execution_count": 38,
   "id": "37812fe4-557d-4d83-9410-8ade274abfec",
   "metadata": {
    "tags": []
   },
   "outputs": [],
   "source": [
    "# Import KFold from sklearn\n",
    "from sklearn.model_selection import KFold"
   ]
  },
  {
   "cell_type": "code",
   "execution_count": 39,
   "id": "03f5c789-599e-41a8-99e9-5cf670836a2f",
   "metadata": {
    "tags": []
   },
   "outputs": [
    {
     "name": "stdout",
     "output_type": "stream",
     "text": [
      "Requirement already satisfied: tqdm in /home/antoniopeduto/anaconda3/envs/ml-zoomcamp/lib/python3.9/site-packages (4.66.1)\n"
     ]
    }
   ],
   "source": [
    "# install tqdm\n",
    "!pip install tqdm"
   ]
  },
  {
   "cell_type": "code",
   "execution_count": 40,
   "id": "e71ad5dd-6104-412b-8d92-219b06e0c711",
   "metadata": {
    "tags": []
   },
   "outputs": [],
   "source": [
    "# import tqdm\n",
    "from tqdm.auto import tqdm"
   ]
  },
  {
   "cell_type": "code",
   "execution_count": 41,
   "id": "2e3792e5-eb65-4513-b805-6e4e3dca3b93",
   "metadata": {
    "tags": []
   },
   "outputs": [],
   "source": [
    "kf = KFold(n_splits=5, shuffle=True, random_state=1)"
   ]
  },
  {
   "cell_type": "code",
   "execution_count": 42,
   "id": "f261ae7f-5657-4e16-bec9-a792b494ff82",
   "metadata": {
    "tags": []
   },
   "outputs": [
    {
     "data": {
      "application/vnd.jupyter.widget-view+json": {
       "model_id": "82bd314a0e684361b504d518033c1acb",
       "version_major": 2,
       "version_minor": 0
      },
      "text/plain": [
       "0it [00:00, ?it/s]"
      ]
     },
     "metadata": {},
     "output_type": "display_data"
    }
   ],
   "source": [
    "# Initialize auc scores\n",
    "auc_scores = []\n",
    "# For each split\n",
    "for train_idx, val_idx in tqdm(kf.split(data)):\n",
    "    # Extract training set and validation set\n",
    "    df_train, df_val = data.iloc[train_idx], data.iloc[val_idx]\n",
    "    # Extract Y_train and Y_val\n",
    "    Y_train, Y_val = df_train.above_average.values, df_val.above_average.values\n",
    "    # Get a trained model\n",
    "    dv, model = train_model(df_train, Y_train)\n",
    "    # Predict output for validation set\n",
    "    Y_pred = predict(df_val, dv, model)\n",
    "    # Get auc score\n",
    "    auc_score = roc_auc_score(y_true=Y_val, y_score=Y_pred)\n",
    "    # save its\n",
    "    auc_scores.append(auc_score)"
   ]
  },
  {
   "cell_type": "code",
   "execution_count": 43,
   "id": "c2f7d6ab-44ba-4076-ba55-8dabe2ef6862",
   "metadata": {},
   "outputs": [
    {
     "data": {
      "text/plain": [
       "[0.9795427375708988,\n",
       " 0.9769811692065483,\n",
       " 0.9745767154863396,\n",
       " 0.978831386935841,\n",
       " 0.9826476266141325]"
      ]
     },
     "execution_count": 43,
     "metadata": {},
     "output_type": "execute_result"
    }
   ],
   "source": [
    "# Print auc scores\n",
    "auc_scores"
   ]
  },
  {
   "cell_type": "code",
   "execution_count": 44,
   "id": "73dd5c72-158e-4e1f-911c-daee2996ef79",
   "metadata": {
    "tags": []
   },
   "outputs": [
    {
     "name": "stdout",
     "output_type": "stream",
     "text": [
      "Standard Deviation of AUC scores: 0.003\n"
     ]
    }
   ],
   "source": [
    "# Compute the standard deviation of auc scores\n",
    "std_auc_scores = np.std(auc_scores)\n",
    "print('Standard Deviation of AUC scores:', std_auc_scores.round(3))"
   ]
  },
  {
   "cell_type": "markdown",
   "id": "a2b522b0-f4e8-483e-87f4-a7e09298e689",
   "metadata": {},
   "source": [
    "## Question 6: Hyperparemeter Tuning\n",
    "\n",
    "Now let's use 5-Fold cross-validation to find the best parameter C\n",
    "- Iterate over the following C values: [0.01, 0.1, 0.5, 10]\n",
    "- Initialize KFold with the same parameters as previously\n",
    "- Use these parametes for the model: LogisticRegression(solver='liblinear', C=C, max_iter=1000)\n",
    "- Compute the mean score as well as the std (round the mean and std to 3 decimal digits)\n",
    "\n",
    "Which C leads to the best mean score?\n",
    "- 0.01\n",
    "- 0.1\n",
    "- 0.5\n",
    "- 10\n",
    "\n",
    "If you have ties, select the score with the lowest std. If you still have ties, select the smallest C."
   ]
  },
  {
   "cell_type": "code",
   "execution_count": 45,
   "id": "e45d3fed-7226-44e5-896e-ba408b049209",
   "metadata": {
    "tags": []
   },
   "outputs": [],
   "source": [
    "# Re-definition of function train_model\n",
    "def train_model(df, y_train, C=1.0):\n",
    "    dict_train = df[categorical+numerical].to_dict(orient='records')\n",
    "    dv = DictVectorizer(sparse=False)\n",
    "    X_train = dv.fit_transform(dict_train)\n",
    "    model = LogisticRegression(solver='liblinear',C=C,max_iter=1000)\n",
    "    model.fit(X_train,y_train)\n",
    "    return dv, model"
   ]
  },
  {
   "cell_type": "code",
   "execution_count": 46,
   "id": "29db77f2-fbfc-4b83-a55e-4665574724dc",
   "metadata": {
    "tags": []
   },
   "outputs": [
    {
     "data": {
      "application/vnd.jupyter.widget-view+json": {
       "model_id": "f8ddaa1c3d434d30bbaa7b05fb0a0b44",
       "version_major": 2,
       "version_minor": 0
      },
      "text/plain": [
       "0it [00:00, ?it/s]"
      ]
     },
     "metadata": {},
     "output_type": "display_data"
    },
    {
     "data": {
      "application/vnd.jupyter.widget-view+json": {
       "model_id": "9a78ec6173f64545bd5ff2df0ea06e34",
       "version_major": 2,
       "version_minor": 0
      },
      "text/plain": [
       "0it [00:00, ?it/s]"
      ]
     },
     "metadata": {},
     "output_type": "display_data"
    },
    {
     "data": {
      "application/vnd.jupyter.widget-view+json": {
       "model_id": "764408a1f94e498bb2de6b3f57d54a7c",
       "version_major": 2,
       "version_minor": 0
      },
      "text/plain": [
       "0it [00:00, ?it/s]"
      ]
     },
     "metadata": {},
     "output_type": "display_data"
    },
    {
     "data": {
      "application/vnd.jupyter.widget-view+json": {
       "model_id": "4886d2390ef14ab5be0dde5c11a79c24",
       "version_major": 2,
       "version_minor": 0
      },
      "text/plain": [
       "0it [00:00, ?it/s]"
      ]
     },
     "metadata": {},
     "output_type": "display_data"
    }
   ],
   "source": [
    "# Defintion of C-values\n",
    "Cs = [0.01, 0.1, 0.5, 10]\n",
    "# Initialize means and stds of AUC\n",
    "auc_means, auc_stds = [], []\n",
    "\n",
    "# For each C-value\n",
    "for C in Cs:\n",
    "    # Initialize KFold\n",
    "    kf = KFold(n_splits=5, shuffle=True, random_state=1)\n",
    "    # Initialize auc scores\n",
    "    auc_scores = []\n",
    "    # For each split of data\n",
    "    for train_idx, val_idx in tqdm(kf.split(data)):\n",
    "        # Extract training set and validation set\n",
    "        df_train, df_val = data.iloc[train_idx], data.iloc[val_idx]\n",
    "        # Extract Y_train and Y_val\n",
    "        Y_train, Y_val = df_train.above_average.values, df_val.above_average.values\n",
    "        # Get a trained model\n",
    "        dv, model = train_model(df_train, Y_train, C)\n",
    "        # Predict output for validation set\n",
    "        Y_pred = predict(df_val, dv, model)\n",
    "        # Get auc score\n",
    "        auc_score = roc_auc_score(y_true=Y_val, y_score=Y_pred)\n",
    "        # save its\n",
    "        auc_scores.append(auc_score)\n",
    "    # Compute mean of auc\n",
    "    auc_mean = np.mean(auc_scores)\n",
    "    # save its\n",
    "    auc_means.append(auc_mean)\n",
    "    # Compute std of auc\n",
    "    auc_std = np.std(auc_scores)\n",
    "    # save its\n",
    "    auc_stds.append(auc_std)"
   ]
  },
  {
   "cell_type": "code",
   "execution_count": 47,
   "id": "3eccbde1-c06a-431e-b92e-bbf22ff2f4f7",
   "metadata": {
    "tags": []
   },
   "outputs": [
    {
     "name": "stdout",
     "output_type": "stream",
     "text": [
      "C-value, AUC-mean, AUC-std\n",
      "0.01, 0.954, 0.003\n",
      "0.1, 0.972, 0.002\n",
      "0.5, 0.978, 0.002\n",
      "10, 0.98, 0.004\n"
     ]
    }
   ],
   "source": [
    "# Print C-value and mean and std of auc scores\n",
    "print('C-value,','AUC-mean,','AUC-std')\n",
    "for C, auc_mean, auc_std in zip(Cs, auc_means, auc_stds):\n",
    "    print(f\"{C}, {auc_mean.round(3)}, {auc_std.round(3)}\")"
   ]
  },
  {
   "cell_type": "code",
   "execution_count": 48,
   "id": "12fa17bd-69d7-4c7d-bfde-6cdb10cd556c",
   "metadata": {
    "tags": []
   },
   "outputs": [
    {
     "name": "stdout",
     "output_type": "stream",
     "text": [
      "C-value of best mean score: 10\n"
     ]
    }
   ],
   "source": [
    "# print C-value of best auc mean value\n",
    "best_mean_idx = auc_means.index(max(auc_means))\n",
    "print('C-value of best mean score:', Cs[best_mean_idx])"
   ]
  },
  {
   "cell_type": "code",
   "execution_count": null,
   "id": "93575e7a-f9bb-4b01-b0bf-a3a649d85420",
   "metadata": {},
   "outputs": [],
   "source": []
  }
 ],
 "metadata": {
  "kernelspec": {
   "display_name": "Python 3 (ipykernel)",
   "language": "python",
   "name": "python3"
  },
  "language_info": {
   "codemirror_mode": {
    "name": "ipython",
    "version": 3
   },
   "file_extension": ".py",
   "mimetype": "text/x-python",
   "name": "python",
   "nbconvert_exporter": "python",
   "pygments_lexer": "ipython3",
   "version": "3.9.18"
  }
 },
 "nbformat": 4,
 "nbformat_minor": 5
}
